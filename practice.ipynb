{
 "cells": [
  {
   "cell_type": "markdown",
   "metadata": {},
   "source": [
    "Amstrong number"
   ]
  },
  {
   "cell_type": "code",
   "execution_count": 2,
   "metadata": {},
   "outputs": [
    {
     "name": "stdout",
     "output_type": "stream",
     "text": [
      "0\n",
      "1\n",
      "2\n",
      "3\n",
      "4\n",
      "5\n",
      "6\n",
      "7\n",
      "8\n",
      "9\n",
      "153\n",
      "370\n",
      "371\n",
      "407\n"
     ]
    }
   ],
   "source": [
    "for i in range(1001):\n",
    "    num=i\n",
    "    res=0\n",
    "    n=len(str(i))\n",
    "    while(i!=0):\n",
    "        di=i%10\n",
    "        res=res+di**n\n",
    "        i=i//10\n",
    "    if num==res:\n",
    "        print(num)"
   ]
  },
  {
   "cell_type": "markdown",
   "metadata": {},
   "source": [
    "pattern\n",
    "1\n",
    "1 2\n",
    "1 2 3\n",
    "1 2 3 4 \n",
    "1 2 3 4 5"
   ]
  },
  {
   "cell_type": "code",
   "execution_count": 2,
   "metadata": {},
   "outputs": [
    {
     "name": "stdout",
     "output_type": "stream",
     "text": [
      "1  \n",
      "1  2  \n",
      "1  2  3  \n",
      "1  2  3  4  \n",
      "1  2  3  4  5  \n"
     ]
    }
   ],
   "source": [
    "n=int (input(\"enter number: \"))\n",
    "for i in range(1,n+1):\n",
    "    for j in range(1,i+1):\n",
    "        print(j,\" \",end=\"\")\n",
    "    print()\n"
   ]
  },
  {
   "cell_type": "markdown",
   "metadata": {},
   "source": [
    "pattern\n",
    "1\n",
    "2 2\n",
    "3 3 3\n",
    "4 4 4 4 \n",
    "5 5 5 5 5"
   ]
  },
  {
   "cell_type": "code",
   "execution_count": 4,
   "metadata": {},
   "outputs": [
    {
     "name": "stdout",
     "output_type": "stream",
     "text": [
      "1  \n",
      "2  2  \n",
      "3  3  3  \n",
      "4  4  4  4  \n",
      "5  5  5  5  5  \n"
     ]
    }
   ],
   "source": [
    "n=int (input(\"enter number: \"))\n",
    "for i in range(1,n+1):\n",
    "    for j in range(1,i+1):\n",
    "        print(i,\" \",end=\"\")\n",
    "    print()\n"
   ]
  },
  {
   "cell_type": "markdown",
   "metadata": {},
   "source": [
    "pattern\n",
    "*\n",
    "**\n",
    "***\n",
    "****\n",
    "*****"
   ]
  },
  {
   "cell_type": "code",
   "execution_count": 5,
   "metadata": {},
   "outputs": [
    {
     "name": "stdout",
     "output_type": "stream",
     "text": [
      "* \n",
      "* * \n",
      "* * * \n",
      "* * * * \n",
      "* * * * * \n"
     ]
    }
   ],
   "source": [
    "n=int (input(\"enter number: \"))\n",
    "for i in range(1,n+1):\n",
    "    for j in range(1,i+1):\n",
    "        print(\"* \",end=\"\")\n",
    "    print()"
   ]
  },
  {
   "cell_type": "markdown",
   "metadata": {},
   "source": [
    "pattern\n",
    "*\n",
    "**\n",
    "* *\n",
    "*  *\n",
    "*****"
   ]
  },
  {
   "cell_type": "code",
   "execution_count": 12,
   "metadata": {},
   "outputs": [
    {
     "name": "stdout",
     "output_type": "stream",
     "text": [
      "*    \n",
      "**   \n",
      "* *  \n",
      "*  * \n",
      "*****\n"
     ]
    }
   ],
   "source": [
    "n=int (input(\"enter number: \"))\n",
    "for r in range(n):\n",
    "    for c in range(n):\n",
    "        if c==0 or r==(n-1) or r==c:\n",
    "            print(\"*\",end=\"\")\n",
    "        else:\n",
    "            print(end=\" \")\n",
    "    print()"
   ]
  },
  {
   "cell_type": "markdown",
   "metadata": {},
   "source": [
    "factorial"
   ]
  },
  {
   "cell_type": "code",
   "execution_count": 17,
   "metadata": {},
   "outputs": [
    {
     "name": "stdout",
     "output_type": "stream",
     "text": [
      "factorial of 5 is 120\n"
     ]
    }
   ],
   "source": [
    "n=int(input(\"enter n:\"))\n",
    "t=1\n",
    "for i in range(n,0,-1):\n",
    "    t=t*i\n",
    "print(\"factorial of\",n,\"is\",t)\n"
   ]
  },
  {
   "cell_type": "markdown",
   "metadata": {},
   "source": [
    "factorial using recursion"
   ]
  },
  {
   "cell_type": "code",
   "execution_count": 18,
   "metadata": {},
   "outputs": [
    {
     "name": "stdout",
     "output_type": "stream",
     "text": [
      "factorial of 5 is 120\n"
     ]
    }
   ],
   "source": [
    "def fact(n):\n",
    "    if n==0:\n",
    "        return 1\n",
    "    else:\n",
    "        return n*fact(n-1)\n",
    "n=int(input(\"enter n:\"))\n",
    "t=fact(n)\n",
    "print(\"factorial of\",n,\"is\",t)\n",
    "    "
   ]
  },
  {
   "cell_type": "markdown",
   "metadata": {},
   "source": [
    "pattern\n",
    "*****\n",
    " *  *\n",
    "  * *\n",
    "   **\n",
    "    *"
   ]
  },
  {
   "cell_type": "code",
   "execution_count": 20,
   "metadata": {},
   "outputs": [
    {
     "name": "stdout",
     "output_type": "stream",
     "text": [
      "* * * * * \n",
      "  *     * \n",
      "    *   * \n",
      "      * * \n",
      "        * \n"
     ]
    }
   ],
   "source": [
    "n=int (input(\"enter number: \"))\n",
    "for r in range(n):\n",
    "    for c in range(n):\n",
    "        if c==(n-1) or r==0 or r==c:\n",
    "            print(\"* \",end=\"\")\n",
    "        else:\n",
    "            print(end=\"  \")\n",
    "    print()"
   ]
  },
  {
   "cell_type": "markdown",
   "metadata": {},
   "source": [
    "pattern\n",
    "1  \n",
    "2  3  \n",
    "4  5  6  \n",
    "7  8  9  10"
   ]
  },
  {
   "cell_type": "code",
   "execution_count": 30,
   "metadata": {},
   "outputs": [
    {
     "name": "stdout",
     "output_type": "stream",
     "text": [
      "1  \n",
      "2  3  \n",
      "4  5  6  \n",
      "7  8  9  10  \n",
      "11  12  13  14  15  \n"
     ]
    }
   ],
   "source": [
    "n=int (input(\"enter number: \"))\n",
    "num=1\n",
    "for i in range(1,n+1):\n",
    "    for j in range(1,i+1):\n",
    "        print(num,\" \",end=\"\")\n",
    "        num+=1\n",
    "    print()\n"
   ]
  },
  {
   "cell_type": "markdown",
   "metadata": {},
   "source": [
    "pattern\n",
    "p  \n",
    "p  y  \n",
    "p  y  t  \n",
    "p  y  t  h  \n",
    "p  y  t  h  o  \n",
    "p  y  t  h  o  n "
   ]
  },
  {
   "cell_type": "code",
   "execution_count": 35,
   "metadata": {},
   "outputs": [
    {
     "name": "stdout",
     "output_type": "stream",
     "text": [
      "p  \n",
      "p  y  \n",
      "p  y  t  \n",
      "p  y  t  h  \n",
      "p  y  t  h  o  \n",
      "p  y  t  h  o  n  \n"
     ]
    }
   ],
   "source": [
    "s=input(\"enter string: \")\n",
    "n=len(s)\n",
    "for i in range(0,n):\n",
    "    for j in range(0,i+1):\n",
    "        print(s[j],\" \",end=\"\")\n",
    "    print()\n"
   ]
  },
  {
   "cell_type": "markdown",
   "metadata": {},
   "source": [
    "Fibonacci series"
   ]
  },
  {
   "cell_type": "code",
   "execution_count": 43,
   "metadata": {},
   "outputs": [
    {
     "name": "stdout",
     "output_type": "stream",
     "text": [
      "1 1 2 3 5 8 13 21 34 55 "
     ]
    }
   ],
   "source": [
    "n=int(input(\"enter n: \"))\n",
    "f1,f2=0,1\n",
    "res=0\n",
    "for i in range(1,n+1):\n",
    "    print(f2,end=\" \")\n",
    "    res=f1+f2\n",
    "    f1=f2\n",
    "    f2=res\n"
   ]
  },
  {
   "cell_type": "markdown",
   "metadata": {},
   "source": [
    "Pattern\n",
    "1 2 3 4 \n",
    "1 2 3 \n",
    "1 2 \n",
    "1 "
   ]
  },
  {
   "cell_type": "code",
   "execution_count": 48,
   "metadata": {},
   "outputs": [
    {
     "name": "stdout",
     "output_type": "stream",
     "text": [
      "1 2 3 4 \n",
      "1 2 3 \n",
      "1 2 \n",
      "1 \n"
     ]
    }
   ],
   "source": [
    "n=int(input(\"enter number:\"))\n",
    "for i in range(n,0,-1):\n",
    "    for j in range(1,i+1):\n",
    "        print(j,end=\" \")\n",
    "    print()"
   ]
  },
  {
   "cell_type": "markdown",
   "metadata": {},
   "source": [
    "Pattern\n",
    "4 4 4 4 \n",
    "3 3 3 \n",
    "2 2 \n",
    "1 "
   ]
  },
  {
   "cell_type": "code",
   "execution_count": 49,
   "metadata": {},
   "outputs": [
    {
     "name": "stdout",
     "output_type": "stream",
     "text": [
      "4 4 4 4 \n",
      "3 3 3 \n",
      "2 2 \n",
      "1 \n"
     ]
    }
   ],
   "source": [
    "n=int(input(\"enter number:\"))\n",
    "for i in range(n,0,-1):\n",
    "    for j in range(1,i+1):\n",
    "        print(i,end=\" \")\n",
    "    print()"
   ]
  },
  {
   "cell_type": "markdown",
   "metadata": {},
   "source": [
    "print prime numbers within range"
   ]
  },
  {
   "cell_type": "code",
   "execution_count": 51,
   "metadata": {},
   "outputs": [
    {
     "name": "stdout",
     "output_type": "stream",
     "text": [
      "5\n",
      "7\n",
      "11\n",
      "13\n",
      "17\n",
      "19\n",
      "23\n",
      "29\n"
     ]
    }
   ],
   "source": [
    "l=int(input(\"enter start\"))\n",
    "u=int(input(\"enter start\"))\n",
    "for n in range(l,u+1):\n",
    "    if n>1:\n",
    "        for i in range(2,n):\n",
    "            if n%i==0:\n",
    "                break\n",
    "        else:\n",
    "            print(n)"
   ]
  },
  {
   "cell_type": "markdown",
   "metadata": {},
   "source": [
    "check prime number or not"
   ]
  },
  {
   "cell_type": "code",
   "execution_count": 54,
   "metadata": {},
   "outputs": [
    {
     "name": "stdout",
     "output_type": "stream",
     "text": [
      "the number 22 is not prime\n"
     ]
    }
   ],
   "source": [
    "n=int(input(\"enter num\"))\n",
    "for i in range(2,n):\n",
    "    if n%i==0:\n",
    "        print(\"the number\",n,\"is not prime\")\n",
    "        break\n",
    "    else:\n",
    "        print(\"the number\",n,\"is prime\")\n",
    "        break"
   ]
  },
  {
   "cell_type": "markdown",
   "metadata": {},
   "source": [
    "Pattern\n",
    "    *    \n",
    "   * *   \n",
    "  *   *  \n",
    " *     * \n",
    "*********"
   ]
  },
  {
   "cell_type": "code",
   "execution_count": 7,
   "metadata": {},
   "outputs": [
    {
     "name": "stdout",
     "output_type": "stream",
     "text": [
      "    *    \n",
      "   * *   \n",
      "  *   *  \n",
      " *     * \n",
      "*********\n"
     ]
    }
   ],
   "source": [
    "n=int(input(\"enter n\"))\n",
    "for i in range(1,n+1):\n",
    "    for j in range(1,n*2):\n",
    "        if i==n or i+j==n+1 or j-i==n-1:\n",
    "            print(\"*\",end=\"\")\n",
    "        else:\n",
    "            print(end=\" \")\n",
    "    print()"
   ]
  },
  {
   "cell_type": "markdown",
   "metadata": {},
   "source": [
    "Pattern\n",
    "    *    \n",
    "   * *   \n",
    "  *   *  \n",
    " *     * \n",
    "* * * * *"
   ]
  },
  {
   "cell_type": "code",
   "execution_count": 8,
   "metadata": {},
   "outputs": [
    {
     "name": "stdout",
     "output_type": "stream",
     "text": [
      "    *    \n",
      "   * *   \n",
      "  *   *  \n",
      " *     * \n",
      "* * * * *\n"
     ]
    }
   ],
   "source": [
    "n=int(input(\"enter n\"))\n",
    "k=2\n",
    "for i in range(1,n+1):\n",
    "    for j in range(1,n*2):\n",
    "        if i+j==n+1 or j-i==n-1:\n",
    "            print(\"*\",end=\"\")\n",
    "        elif i==n and j!=k:\n",
    "            print(\"*\",end=\"\")\n",
    "            k=k+2\n",
    "        else:\n",
    "            print(end=\" \")\n",
    "    print()"
   ]
  }
 ],
 "metadata": {
  "kernelspec": {
   "display_name": "Python 3",
   "language": "python",
   "name": "python3"
  },
  "language_info": {
   "codemirror_mode": {
    "name": "ipython",
    "version": 3
   },
   "file_extension": ".py",
   "mimetype": "text/x-python",
   "name": "python",
   "nbconvert_exporter": "python",
   "pygments_lexer": "ipython3",
   "version": "3.12.4"
  }
 },
 "nbformat": 4,
 "nbformat_minor": 2
}
