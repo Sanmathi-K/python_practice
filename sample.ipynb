{
 "cells": [
  {
   "cell_type": "code",
   "execution_count": 1,
   "metadata": {},
   "outputs": [
    {
     "name": "stdout",
     "output_type": "stream",
     "text": [
      "Welcome\n"
     ]
    }
   ],
   "source": [
    "print(\"Welcome\")"
   ]
  },
  {
   "cell_type": "code",
   "execution_count": 3,
   "metadata": {},
   "outputs": [
    {
     "name": "stdout",
     "output_type": "stream",
     "text": [
      "x is of type <class 'int'> and has value 10\n",
      "x is of type <class 'str'> and has value Hello, world!\n",
      "x is of type <class 'list'> and has value [1, 2, 3, 4, 5]\n"
     ]
    }
   ],
   "source": [
    "# Example of dynamic typing in Python\n",
    "\n",
    "# Assign an integer value to a variable\n",
    "x = 10\n",
    "print(f\"x is of type {type(x)} and has value {x}\")\n",
    "\n",
    "# Reassign the same variable to a string value\n",
    "x = \"Hello, world!\"\n",
    "print(f\"x is of type {type(x)} and has value {x}\")\n",
    "\n",
    "# Reassign the same variable to a list\n",
    "x = [1, 2, 3, 4, 5]\n",
    "print(f\"x is of type {type(x)} and has value {x}\")\n"
   ]
  },
  {
   "cell_type": "code",
   "execution_count": 1,
   "metadata": {},
   "outputs": [],
   "source": [
    "val_1 = int(input(\"Please 1st enter an integer: \"))\n",
    "val_2 = int(input(\"Please 2nd enter an integer: \"))\n",
    "result = val_1/val_2\n",
    "print(\"Result: \",result)\n"
   ]
  },
  {
   "cell_type": "code",
   "execution_count": 6,
   "metadata": {},
   "outputs": [
    {
     "name": "stdout",
     "output_type": "stream",
     "text": [
      "Result:  1.6666666666666667\n",
      "No exceptions detected\n",
      "I will always get executed\n"
     ]
    }
   ],
   "source": [
    "try:\n",
    "    val_1 = int(input(\"Please 1st enter an integer: \"))\n",
    "    val_2 = int(input(\"Please 2nd enter an integer: \"))\n",
    "    result = val_1/val_2\n",
    "    print(\"Result: \",result)\n",
    "except ValueError:\n",
    "    print(\"Looks like you did not enter an integer!\")\n",
    "except:\n",
    "    print(\"No idea about the error\")\n",
    "else:\n",
    "    print(\"No exceptions detected\")\n",
    "finally:\n",
    "    print(\"I will always get executed\")"
   ]
  },
  {
   "cell_type": "code",
   "execution_count": 7,
   "metadata": {},
   "outputs": [
    {
     "name": "stdout",
     "output_type": "stream",
     "text": [
      "Looks like you did not enter an integer!\n",
      "Finally, I executed!\n",
      "Looks like you did not enter an integer!\n",
      "Finally, I executed!\n",
      "Yep that's an integer!\n",
      "Finally, I executed!\n"
     ]
    }
   ],
   "source": [
    "def askint():\n",
    "    while True:\n",
    "        try:\n",
    "            val = int(input(\"Please enter an integer: \"))\n",
    "        except:\n",
    "            print(\"Looks like you did not enter an integer!\")\n",
    "            continue\n",
    "        else:\n",
    "            print(\"Yep that's an integer!\")\n",
    "            break\n",
    "        finally:     \n",
    "            print(\"Finally, I executed!\")\n",
    "        print(val)\n",
    "askint()"
   ]
  }
 ],
 "metadata": {
  "kernelspec": {
   "display_name": "Python 3",
   "language": "python",
   "name": "python3"
  },
  "language_info": {
   "codemirror_mode": {
    "name": "ipython",
    "version": 3
   },
   "file_extension": ".py",
   "mimetype": "text/x-python",
   "name": "python",
   "nbconvert_exporter": "python",
   "pygments_lexer": "ipython3",
   "version": "3.12.4"
  }
 },
 "nbformat": 4,
 "nbformat_minor": 2
}
