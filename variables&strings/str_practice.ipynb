{
 "cells": [
  {
   "cell_type": "markdown",
   "metadata": {},
   "source": [
    "Write a Python program that asks the user to enter their name and age, and then prints out a message that says \"Hello, [name]! You are [age] years old.\""
   ]
  },
  {
   "cell_type": "code",
   "execution_count": 1,
   "metadata": {},
   "outputs": [
    {
     "name": "stdout",
     "output_type": "stream",
     "text": [
      "Hello, sanmathi ! you are 21 years old.\n"
     ]
    }
   ],
   "source": [
    "n=input(\"enter name\")\n",
    "a=int(input(\"enter age\"))\n",
    "print(\"Hello,\",n,\"! you are\",a,\"years old.\")"
   ]
  },
  {
   "cell_type": "markdown",
   "metadata": {},
   "source": [
    " Python program that calculates the area of a rectangle. The program should ask the user to enter the length and width of the rectangle, and then print out the area."
   ]
  },
  {
   "cell_type": "code",
   "execution_count": 2,
   "metadata": {},
   "outputs": [
    {
     "name": "stdout",
     "output_type": "stream",
     "text": [
      "Area of rectangle is: 48\n"
     ]
    }
   ],
   "source": [
    "n=int(input(\"enter length\"))\n",
    "b=int(input(\"enter breadth\"))\n",
    "area=n*b\n",
    "print(\"Area of rectangle is:\",area)"
   ]
  },
  {
   "cell_type": "markdown",
   "metadata": {},
   "source": [
    "Python program that asks the user to enter a string, and then prints out the length of the string."
   ]
  },
  {
   "cell_type": "code",
   "execution_count": 4,
   "metadata": {},
   "outputs": [
    {
     "name": "stdout",
     "output_type": "stream",
     "text": [
      "length of wait here is 9\n"
     ]
    }
   ],
   "source": [
    "s=input(\"enter a string\")\n",
    "print(\"length of\",s,\"is\",len(s))"
   ]
  },
  {
   "cell_type": "markdown",
   "metadata": {},
   "source": [
    " enter two numbers, and then prints out whether the first number is greater than, less than, or equal to the second number."
   ]
  },
  {
   "cell_type": "code",
   "execution_count": 6,
   "metadata": {},
   "outputs": [
    {
     "name": "stdout",
     "output_type": "stream",
     "text": [
      "a: 6\n",
      "b: 9\n",
      "6 is less than 9\n"
     ]
    }
   ],
   "source": [
    "n1=int(input(\"enter n1\"))\n",
    "n2=int(input(\"enter n2\"))\n",
    "print(\"a:\",n1)\n",
    "print(\"b:\",n2)\n",
    "if n1>n2:\n",
    "    print(n1,\"is greater than\",n2)\n",
    "elif n1<b:\n",
    "     print(n1,\"is less than\",n2)\n",
    "else:\n",
    "     print(n1,\"equal to\",n2)"
   ]
  },
  {
   "cell_type": "markdown",
   "metadata": {},
   "source": [
    "Python program that asks the user to enter a string, and then prints out the string in reverse order."
   ]
  },
  {
   "cell_type": "code",
   "execution_count": 8,
   "metadata": {},
   "outputs": [
    {
     "name": "stdout",
     "output_type": "stream",
     "text": [
      "olleh\n"
     ]
    }
   ],
   "source": [
    "s1=input(\"enter string\")\n",
    "print(s1[::-1])"
   ]
  },
  {
   "cell_type": "markdown",
   "metadata": {},
   "source": [
    "prints out whether the number is even or odd."
   ]
  },
  {
   "cell_type": "code",
   "execution_count": 9,
   "metadata": {},
   "outputs": [
    {
     "name": "stdout",
     "output_type": "stream",
     "text": [
      "56 is even\n"
     ]
    }
   ],
   "source": [
    "n1=int(input(\"enter n1\"))\n",
    "if n%2==0:\n",
    "    print(n1,\"is even\")\n",
    "else:\n",
    "    print(n1,\"is odd\")"
   ]
  },
  {
   "cell_type": "markdown",
   "metadata": {},
   "source": [
    "Python program that asks the user to enter a temperature in Fahrenheit, and then converts it to Celsius. The formula for converting Fahrenheit to Celsius is (F - 32) * 5/9."
   ]
  },
  {
   "cell_type": "code",
   "execution_count": 10,
   "metadata": {},
   "outputs": [
    {
     "name": "stdout",
     "output_type": "stream",
     "text": [
      "celcious value of 25 is -3.888888888888889\n"
     ]
    }
   ],
   "source": [
    "f=int(input(\"enter farenheit\"))\n",
    "c=(f-32)*5/9\n",
    "print(\"celcious value of\",f,\"is\",c)"
   ]
  },
  {
   "cell_type": "markdown",
   "metadata": {},
   "source": [
    " Write a Python program that asks the user to enter a string, and then checks if the string contains the letter \"e\". If the string contains \"e\", print out a message that says \"The string contains the letter e.\" If the string does not contain \"e\", print out a message that says \"The string does not contain the letter e.\""
   ]
  },
  {
   "cell_type": "code",
   "execution_count": 14,
   "metadata": {},
   "outputs": [
    {
     "name": "stdout",
     "output_type": "stream",
     "text": [
      "The string contains the letter e.\n"
     ]
    }
   ],
   "source": [
    "s2=input(\"enter string\")\n",
    "#input=some\n",
    "for i in s2:\n",
    "    k=s.find('e')\n",
    "    if k>=0:\n",
    "        print(\"The string contains the letter e.\")\n",
    "        break\n",
    "    else:\n",
    "        print(\"The string does not contain the letter e.\")\n",
    "        break"
   ]
  },
  {
   "cell_type": "markdown",
   "metadata": {},
   "source": [
    "Python program that asks the user to enter a password. If the password contains less than 8 characters, print out a message that says \"Password too short.\" If the password contains 8 or more characters, print out a message that says \"Password accepted.\""
   ]
  },
  {
   "cell_type": "code",
   "execution_count": 2,
   "metadata": {},
   "outputs": [
    {
     "name": "stdout",
     "output_type": "stream",
     "text": [
      "Pasword accepted\n"
     ]
    }
   ],
   "source": [
    "p=input(\"enter password\")\n",
    "l=len(p)\n",
    "if l>=8:\n",
    "    print(\"Pasword accepted\")\n",
    "else:\n",
    "    print(\"Password too short\")"
   ]
  },
  {
   "cell_type": "markdown",
   "metadata": {},
   "source": [
    " Python program that asks the user to enter a number between 1 and 10. If the user enters a number outside of this range, print out a message that says \"Invalid input.\" If the user enters a number within this range, print out a message that says \"Valid input.\""
   ]
  },
  {
   "cell_type": "code",
   "execution_count": 9,
   "metadata": {},
   "outputs": [
    {
     "name": "stdout",
     "output_type": "stream",
     "text": [
      "5\n",
      "valid input\n"
     ]
    }
   ],
   "source": [
    "r1=int(input(\"enter no btwn 1 to 10\"))\n",
    "print(r1)\n",
    "if 1<=r1<=10:\n",
    "    print(\"valid input\")\n",
    "else:\n",
    "    print(\"invalid input\")\n"
   ]
  },
  {
   "cell_type": "markdown",
   "metadata": {},
   "source": [
    "Write a Python program that asks the user to enter a sentence, and then counts the number of words in the sentence."
   ]
  },
  {
   "cell_type": "code",
   "execution_count": 12,
   "metadata": {},
   "outputs": [
    {
     "name": "stdout",
     "output_type": "stream",
     "text": [
      "this is good\n",
      "no of spaces 2\n"
     ]
    }
   ],
   "source": [
    "sen=input(\"enter sentence\")\n",
    "print(sen)\n",
    "c=0\n",
    "for i in sen:\n",
    "    if i==\" \":\n",
    "        c=c+1\n",
    "print(\"no of spaces\",c)"
   ]
  },
  {
   "cell_type": "markdown",
   "metadata": {},
   "source": [
    "Write a Python program that asks the user to enter a string, and then prints out the string with all the vowels replaced by the letter \"x\"."
   ]
  },
  {
   "cell_type": "code",
   "execution_count": 23,
   "metadata": {},
   "outputs": [
    {
     "name": "stdout",
     "output_type": "stream",
     "text": [
      "string: some value\n",
      "replaced string: sxmx vxlxx\n"
     ]
    }
   ],
   "source": [
    "s2=input(\"enter string\")\n",
    "print(\"string:\",s2)\n",
    "s3=['A','a','E','e','I','i','O','o','U','u']\n",
    "news2=\"\"\n",
    "c='x'\n",
    "for i in range(len(s2)):\n",
    "    if s2[i] in s3:\n",
    "        news2+=c\n",
    "    else:\n",
    "        news2+=s2[i]\n",
    "print(\"replaced string:\",news2)"
   ]
  },
  {
   "cell_type": "markdown",
   "metadata": {},
   "source": [
    "Write a Python program that asks the user to enter a number, and then checks if the number is a multiple of 3. If the number is a multiple of 3, print out a message that says \"The number is a multiple of 3.\" If the number is not a multiple of 3, print out a message that says \"The number is not a multiple of 3.\""
   ]
  },
  {
   "cell_type": "code",
   "execution_count": 24,
   "metadata": {},
   "outputs": [
    {
     "name": "stdout",
     "output_type": "stream",
     "text": [
      "66 is multiple of 3\n"
     ]
    }
   ],
   "source": [
    "n=int(input(\"enter a number\"))\n",
    "if n%3==0:\n",
    "    print(n,\"is multiple of 3\")\n",
    "else:\n",
    "    print(n,\"is not a multiple of 3\")"
   ]
  },
  {
   "cell_type": "markdown",
   "metadata": {},
   "source": [
    "Write a Python program that asks the user to enter a string, and then checks if the string starts with the letter \"a\". If the string starts with \"a\", print out a message that says \"The string starts with the letter a.\" If the string does not start with \"a\", print out a message that says \"The string does not start with the letter a.\""
   ]
  },
  {
   "cell_type": "code",
   "execution_count": 26,
   "metadata": {},
   "outputs": [
    {
     "name": "stdout",
     "output_type": "stream",
     "text": [
      "the string is: alpha\n",
      "The string starts with the letter a\n"
     ]
    }
   ],
   "source": [
    "s=input(\"enter string\")\n",
    "print(\"the string is:\",s)\n",
    "if s.startswith('a'):\n",
    "    print(\"The string starts with the letter a\")\n",
    "else:\n",
    "    print(\"the string does not start with a\")"
   ]
  },
  {
   "cell_type": "markdown",
   "metadata": {},
   "source": [
    "  Python program that asks the user to enter a number between 1 and 100. If the number is a multiple of both 3 and 5, print out a message that says \"FizzBuzz\". If the number is a multiple of only 3, print out a message that says \"Fizz\". If the number is a multiple of only 5, print out a message that says \"Buzz\". If the number is not a multiple of 3 or 5, print out the number itself"
   ]
  },
  {
   "cell_type": "code",
   "execution_count": 28,
   "metadata": {},
   "outputs": [
    {
     "name": "stdout",
     "output_type": "stream",
     "text": [
      "the number is: 50\n",
      "Buzz\n"
     ]
    }
   ],
   "source": [
    "n=int(input(\"enter number between 1 to 100\"))\n",
    "print(\"the number is:\",n)\n",
    "if n%3==0 and n%5==0:\n",
    "    print(\"FizzBuzz\")\n",
    "elif n%3==0:\n",
    "    print(\"Fizz\")\n",
    "elif n%5==0:\n",
    "    print(\"Buzz\")\n",
    "else:\n",
    "    print(n)"
   ]
  },
  {
   "cell_type": "markdown",
   "metadata": {},
   "source": [
    "Python program that asks the user to enter a string, and then checks if the string is a palindrome (i.e. the same forwards and backwards) without using any built-in string methods."
   ]
  },
  {
   "cell_type": "code",
   "execution_count": 34,
   "metadata": {},
   "outputs": [
    {
     "name": "stdout",
     "output_type": "stream",
     "text": [
      "string is: malayalam\n",
      "the string is palindrome\n"
     ]
    }
   ],
   "source": [
    "s=input(\"enter string\")\n",
    "k=len(s)\n",
    "print(\"string is:\",s)\n",
    "for i in range(0,int(k/2)):\n",
    "    if s[i]!=s[k-i-1]:    \n",
    "        print(\"the string is not palindrome\")\n",
    "        break\n",
    "    else:\n",
    "        print(\"the string is palindrome\")\n",
    "        break"
   ]
  },
  {
   "cell_type": "markdown",
   "metadata": {},
   "source": [
    "Python program that asks the user to enter a password. If the password is \"password123\", print out a message that says \"Access granted.\" If the password is anything else, print out a message that says \"Access denied.\""
   ]
  },
  {
   "cell_type": "code",
   "execution_count": 39,
   "metadata": {},
   "outputs": [
    {
     "name": "stdout",
     "output_type": "stream",
     "text": [
      "Access denied\n"
     ]
    }
   ],
   "source": [
    "ps=input(\"enter password\")\n",
    "if ps==\"password123\":\n",
    "    print(\"Access granted\")\n",
    "else:\n",
    "    print(\"Access denied\")"
   ]
  },
  {
   "cell_type": "markdown",
   "metadata": {},
   "source": [
    "Python program that asks the user to enter a number, and then prints out whether the number is positive, negative, or zero."
   ]
  },
  {
   "cell_type": "code",
   "execution_count": 38,
   "metadata": {},
   "outputs": [
    {
     "name": "stdout",
     "output_type": "stream",
     "text": [
      "-33 is negative\n"
     ]
    }
   ],
   "source": [
    "num=int(input(\"enter number\"))\n",
    "if num>0:\n",
    "    print(num,\"is positive\")\n",
    "elif num<0:\n",
    "    print(num,\"is negative\")\n",
    "else:\n",
    "    print(num,\"is zero\")"
   ]
  },
  {
   "cell_type": "markdown",
   "metadata": {},
   "source": [
    "Python program that asks the user to enter a string, and then prints out whether the string is a palindrome (i.e. the same forwards and backwards)."
   ]
  },
  {
   "cell_type": "code",
   "execution_count": 37,
   "metadata": {},
   "outputs": [
    {
     "name": "stdout",
     "output_type": "stream",
     "text": [
      "string is malayalam\n",
      "palindrome\n"
     ]
    }
   ],
   "source": [
    "str=input(\"enter string\")\n",
    "print(\"string is\",str)\n",
    "k=str[::-1]\n",
    "if str==k:\n",
    "    print(\"palindrome\")\n",
    "else:\n",
    "    print(\"not palindrome\")\n"
   ]
  }
 ],
 "metadata": {
  "kernelspec": {
   "display_name": "Python 3",
   "language": "python",
   "name": "python3"
  },
  "language_info": {
   "codemirror_mode": {
    "name": "ipython",
    "version": 3
   },
   "file_extension": ".py",
   "mimetype": "text/x-python",
   "name": "python",
   "nbconvert_exporter": "python",
   "pygments_lexer": "ipython3",
   "version": "3.12.4"
  }
 },
 "nbformat": 4,
 "nbformat_minor": 2
}
