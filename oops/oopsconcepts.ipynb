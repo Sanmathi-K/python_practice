{
 "cells": [
  {
   "cell_type": "markdown",
   "metadata": {},
   "source": [
    "Create a class called Shape with attributes color and filled. Implement subclasses Circle and Rectangle that inherit from Shape. Override the calculate_area method in each subclass to calculate the area of the respective shape. Demonstrate polymorphism by creating instances of both subclasses and calling the calculate_area method."
   ]
  },
  {
   "cell_type": "code",
   "execution_count": 7,
   "metadata": {},
   "outputs": [
    {
     "name": "stdout",
     "output_type": "stream",
     "text": [
      "color of circle: red\n",
      "circle is filled true\n",
      "Radius of a circle\n",
      "Area of circle: 50.24\n",
      "color of the rectangle: blue\n",
      "the rectangle is filled false\n",
      "length of rectangle: 5\n",
      "breadth of rectangle: 6\n",
      "Area of Rectangle: 30\n"
     ]
    }
   ],
   "source": [
    "class Shape:\n",
    "    def __init__(self,color,filled):\n",
    "        self.color=color\n",
    "        self.filled=filled\n",
    "class Circle(Shape):\n",
    "    def calculate_area(self,radius):\n",
    "        self.r=radius\n",
    "        a=3.14*self.r*self.r\n",
    "        print(\"Area of circle:\",a)\n",
    "class Rectangle(Shape):\n",
    "    def calculate_area(self,length,breadth):\n",
    "        self.length=length\n",
    "        self.breadth=breadth\n",
    "        a=length*breadth\n",
    "        print(\"Area of Rectangle:\",a)\n",
    "col=input(\"enter color of circle\")\n",
    "fill=input(\"enter circle filled or not\")\n",
    "r=int(input(\"enter radius\"))\n",
    "print(\"color of circle:\",col)\n",
    "print(\"circle is filled\",fill)\n",
    "c=Circle(col,fill)\n",
    "print(\"Radius of a circle\")\n",
    "c.calculate_area(r)\n",
    "color=input(\"enter color of rectangle\")\n",
    "filled=input(\"enter rectangle filled or not\")\n",
    "l=int(input(\"enter length\"))\n",
    "b=int(input(\"Enter breadth\"))\n",
    "rec=Rectangle(color,filled)\n",
    "print(\"color of the rectangle:\",color)\n",
    "print(\"the rectangle is filled\",filled)\n",
    "print(\"length of rectangle:\",l)\n",
    "print(\"breadth of rectangle:\",b)\n",
    "rec.calculate_area(l,b)"
   ]
  },
  {
   "cell_type": "markdown",
   "metadata": {},
   "source": [
    "Create a class called Animal with a method called make_sound. Implement subclasses Dog and Cat that inherit from Animal. Override the make_sound method in each subclass to produce the appropriate sound for the animal. Demonstrate polymorphism by creating instances of both subclasses and calling the make_sound method."
   ]
  },
  {
   "cell_type": "code",
   "execution_count": 8,
   "metadata": {},
   "outputs": [
    {
     "name": "stdout",
     "output_type": "stream",
     "text": [
      "Bark!\n",
      "Meow!\n"
     ]
    }
   ],
   "source": [
    "class Animal:\n",
    "    def make_sound(self):\n",
    "        print(\"Generic animal sound\")\n",
    "class Dog(Animal):\n",
    "     def make_sound(self):\n",
    "        print(\"Bark!\")\n",
    "\n",
    "class Cat(Animal):\n",
    "    def make_sound(self):\n",
    "        print(\"Meow!\")\n",
    "d=Dog()\n",
    "c=Cat()\n",
    "d.make_sound()\n",
    "c.make_sound()\n"
   ]
  },
  {
   "cell_type": "markdown",
   "metadata": {},
   "source": [
    " Create a class called Animal with a method called make_sound. Implement subclasses Dog, Cat, and Bird that inherit from Animal. Override the make_sound method in each subclass to produce the appropriate sound for the animal. Demonstrate polymorphism by creating a list of animal objects and calling the make_sound method for each object."
   ]
  },
  {
   "cell_type": "code",
   "execution_count": 4,
   "metadata": {},
   "outputs": [
    {
     "name": "stdout",
     "output_type": "stream",
     "text": [
      "Bark!\n",
      "None\n",
      "Meow!\n",
      "None\n",
      "Chirps!\n",
      "None\n"
     ]
    }
   ],
   "source": [
    "class Animal:\n",
    "    def make_sound(self):\n",
    "        print(\"Generic animal sound\")\n",
    "class Dog(Animal):\n",
    "     def make_sound(self):\n",
    "        print(\"Bark!\")\n",
    "\n",
    "class Cat(Animal):\n",
    "    def make_sound(self):\n",
    "        print(\"Meow!\")\n",
    "class Bird(Animal):\n",
    "    def make_sound(self):\n",
    "        print(\"Chirps!\")\n",
    "animals = [Dog(), Cat(), Bird()]\n",
    "\n",
    "for animal in animals:\n",
    "    print(animal.make_sound())\n"
   ]
  },
  {
   "cell_type": "markdown",
   "metadata": {},
   "source": [
    "Create a class called BankAccount with attributes account_number and balance. Implement subclasses CheckingAccount and SavingsAccount that inherit from BankAccount. Add specific methods for each subclass, such as withdraw and deposit. Demonstrate inheritance by creating instances of both subclasses and calling their specific methods."
   ]
  },
  {
   "cell_type": "code",
   "execution_count": 2,
   "metadata": {},
   "outputs": [
    {
     "name": "stdout",
     "output_type": "stream",
     "text": [
      "Checking Account number: 123\n",
      "checking account initial balance: 200000.0\n",
      "Balance in account after deposit 20000.0 : 220000.0\n",
      "Balance in account after withdrawal 10000.0 : 190000.0\n",
      "savings account number: 456\n",
      "savings account initial balance: 400000.0\n",
      "Balance in account after deposit 20000.0 : 420000.0\n",
      "Balance in account after withdrawal 10000.0 : 390000.0\n"
     ]
    }
   ],
   "source": [
    "class BankAccount:\n",
    "    def __init__(self,account_number,balance):\n",
    "        self.acc=account_number\n",
    "        self.bal=balance\n",
    "    def withdraw(self,w):\n",
    "        self.w=w\n",
    "        balance=self.bal-w\n",
    "        print(\"Balance in account after withdrawal\",self.w,\":\",balance)\n",
    "    def deposit(self,d):\n",
    "        self.d=d\n",
    "        balance=self.bal+d\n",
    "        print(\"Balance in account after deposit\",self.d,\":\",balance)\n",
    "class CheckingAcount(BankAccount):\n",
    "    def __init__(self, account_number, balance):\n",
    "        super().__init__(account_number, balance)\n",
    "    \n",
    "class SavingsAccount(BankAccount):\n",
    "    def __init__(self, account_number, balance=0):\n",
    "        super().__init__(account_number, balance)\n",
    "account_number = input(\"Enter the checking account number: \")\n",
    "balance = float(input(\"Enter the initial balance for the checking account: \"))\n",
    "print(\"Checking Account number:\",account_number)\n",
    "print(\"checking account initial balance:\",balance)\n",
    "checking_account = CheckingAcount(account_number, balance)\n",
    "\n",
    "\n",
    "\n",
    "d=float(input(\"Enter the amount to deposit in the checking account: \"))\n",
    "checking_account.deposit(d)\n",
    "w=float(input(\"Enter the amount to withdraw from the checking account: \"))\n",
    "checking_account.withdraw(w)\n",
    "\n",
    "account_number = input(\"\\nEnter the savings account number: \")\n",
    "balance = float(input(\"Enter the initial balance for the savings account: \"))\n",
    "print(\"savings account number:\",account_number)\n",
    "print(\"savings account initial balance:\",balance)\n",
    "\n",
    "savings_account = SavingsAccount(account_number, balance)\n",
    "d=float(input(\"Enter the amount to deposit in the savings account: \"))\n",
    "savings_account.deposit(d)\n",
    "w=float(input(\"Enter the amount to withdraw from the savings account: \"))\n",
    "savings_account.withdraw(w)\n",
    "\n"
   ]
  },
  {
   "cell_type": "markdown",
   "metadata": {},
   "source": [
    "Create a class called Vehicle with attributes make and model. Implement a subclass called Car that inherits from Vehicle and adds an attribute num_doors. Implement a subclass called Motorcycle that inherits from Vehicle and adds an attribute top_speed. Demonstrate inheritance by creating instances of both subclasses and accessing their attributes."
   ]
  },
  {
   "cell_type": "code",
   "execution_count": 1,
   "metadata": {},
   "outputs": [
    {
     "name": "stdout",
     "output_type": "stream",
     "text": [
      "car make: toyoto, Model: corolla,number of doors: 4\n",
      "Motorcycle: harley-davidson, Model: street 750 , top speed: street 750\n"
     ]
    }
   ],
   "source": [
    "class Vehicle:\n",
    "    def __init__(self,make,model):\n",
    "        self.make=make\n",
    "        self.model=model\n",
    "class Car(Vehicle):\n",
    "    def __init__(self,make,model,num_doors):\n",
    "        super().__init__(make,model)\n",
    "        self.num_doors=num_doors\n",
    "class Motorcycle(Vehicle):\n",
    "    def __init__(self,make,model,top_Speed):\n",
    "        super().__init__(make,model)\n",
    "        self.top_speed=top_Speed\n",
    "make=input(\"enter car company name\")\n",
    "model=input(\"enter model\")\n",
    "num_doors=input(\"enter no of car doors\")\n",
    "c=Car(make,model,num_doors)\n",
    "make=input(\"enter bike company name\")\n",
    "model=input(\"enter model\")\n",
    "top_speed=input(\"enter top speed\")\n",
    "b=Motorcycle(make,model,top_speed)\n",
    "print(f\"car make: {c.make}, Model: {c.model},number of doors: {c.num_doors}\")\n",
    "print(f\"Motorcycle: {b.make}, Model: {b.model} , top speed: {b.model}\")\n",
    "\n"
   ]
  },
  {
   "cell_type": "markdown",
   "metadata": {},
   "source": [
    "Create a class called Shape with an abstract method called calculate_area. Implement subclasses Circle and Rectangle that inherit from Shape and implement the calculate_area method accordingly. Demonstrate polymorphism by creating instances of both subclasses and calling the calculate_area method."
   ]
  },
  {
   "cell_type": "code",
   "execution_count": 7,
   "metadata": {},
   "outputs": [
    {
     "name": "stdout",
     "output_type": "stream",
     "text": [
      "Area of circle of radius 4: 50.24\n",
      "Area of rectangle of length 5 and breadth 6: 30\n"
     ]
    }
   ],
   "source": [
    "from abc import ABC, abstractmethod\n",
    "class Shape(ABC):\n",
    "    @abstractmethod\n",
    "    def calculate_area(self):\n",
    "        pass\n",
    "class Circle(Shape):\n",
    "    def __init__(self,radius):\n",
    "        self.radius=radius\n",
    "    def calculate_area(self):\n",
    "        return 3.14*self.radius*self.radius\n",
    "class Rectangle(Shape):\n",
    "    def __init__(self,length,width):\n",
    "        self.length=length\n",
    "        self.width=width\n",
    "    def calculate_area(self):\n",
    "        return self.length*self.width\n",
    "r=int(input(\"enter radius\"))\n",
    "cir=Circle(r)\n",
    "l=int(input(\"enter rectangle length\"))\n",
    "b=int(input(\"enter rectangle breadth\"))\n",
    "rec=Rectangle(l,b)\n",
    "print(f\"Area of circle of radius {r}: {cir.calculate_area()}\")\n",
    "print(f\"Area of rectangle of length {l} and breadth {b}: {rec.calculate_area()}\")\n"
   ]
  },
  {
   "cell_type": "markdown",
   "metadata": {},
   "source": [
    "Create a class called ChessPiece with an abstract method called move. Implement subclasses Pawn, Rook, Knight, Bishop, Queen, and King that inherit from ChessPiece and provide specific implementations of the move method for each piece."
   ]
  },
  {
   "cell_type": "code",
   "execution_count": 8,
   "metadata": {},
   "outputs": [
    {
     "name": "stdout",
     "output_type": "stream",
     "text": [
      "Pawn: Moves forward 1 square, optionally 2 squares on its first move.\n",
      "Rook: Moves horizontally or vertically any number of squares.\n",
      "Knight: Moves in an L-shape: 2 squares in one direction and then 1 square perpendicular.\n",
      "Bishop: Moves diagonally any number of squares.\n",
      "Queen: Moves horizontally, vertically, or diagonally any number of squares.\n",
      "King: Moves one square in any direction.\n"
     ]
    }
   ],
   "source": [
    "from abc import ABC , abstractmethod\n",
    "class ChessPiece(ABC):\n",
    "    @abstractmethod\n",
    "    def move(self):\n",
    "        pass\n",
    "class Pawn(ChessPiece):\n",
    "    def move(self):\n",
    "        return \"Moves forward 1 square, optionally 2 squares on its first move.\"\n",
    "class Rook(ChessPiece):\n",
    "    def move(self):\n",
    "        return \"Moves horizontally or vertically any number of squares.\"\n",
    "class Knight(ChessPiece):\n",
    "    def move(self):\n",
    "        return \"Moves in an L-shape: 2 squares in one direction and then 1 square perpendicular.\"\n",
    "class Bishop(ChessPiece):\n",
    "    def move(self):\n",
    "        return \"Moves diagonally any number of squares.\"\n",
    "class Queen(ChessPiece):\n",
    "    def move(self):\n",
    "        return \"Moves horizontally, vertically, or diagonally any number of squares.\"\n",
    "class King(ChessPiece):\n",
    "    def move(self):\n",
    "        return  \"Moves one square in any direction.\"\n",
    "pawn=Pawn() \n",
    "rook=Rook()\n",
    "knight=Knight()\n",
    "bishop=Bishop()\n",
    "queen=Queen()\n",
    "king=King()\n",
    "pieces = [pawn, rook, knight, bishop, queen, king]\n",
    "for piece in pieces:\n",
    "    print(f\"{piece.__class__.__name__}: {piece.move()}\")"
   ]
  },
  {
   "cell_type": "markdown",
   "metadata": {},
   "source": [
    "Create a class called Shape with an abstract method called calculate_area. Implement subclasses Rectangle, Triangle, and Circle that inherit from Shape and implement the calculate_area method accordingly. Create a list of different shapes and calculate their respective areas using polymorphism."
   ]
  },
  {
   "cell_type": "code",
   "execution_count": 10,
   "metadata": {},
   "outputs": [
    {
     "name": "stdout",
     "output_type": "stream",
     "text": [
      " Area of Rectangle is 20\n",
      " Area of Triangle is 15.0\n",
      " Area of Circle is 50.24\n"
     ]
    }
   ],
   "source": [
    "from abc import ABC, abstractmethod\n",
    "class Shape(ABC):\n",
    "    @abstractmethod\n",
    "    def calculate_area(self):\n",
    "        pass\n",
    "class Rectangle(Shape):\n",
    "    def __init__(self,length,width):\n",
    "        self.length=length\n",
    "        self.width=width\n",
    "    def calculate_area(self):\n",
    "        return self.length*self.width\n",
    "class Triangle(Shape):\n",
    "    def __init__(self,base,height):\n",
    "        self.base=base\n",
    "        self.height=height\n",
    "    def calculate_area(self):\n",
    "        return 0.5*self.base*self.height\n",
    "class Circle(Shape):\n",
    "    def __init__(self,radius):\n",
    "        self.radius=radius\n",
    "    def calculate_area(self):\n",
    "        return 3.14*self.radius*self.radius\n",
    "l=int(input(\"enter rectangle length\"))\n",
    "b=int(input(\"enter rectangle breadth\"))\n",
    "rec=Rectangle(l,b)\n",
    "ba=int(input(\"enter triangle base\"))\n",
    "h=int(input(\"enter triangle height\"))\n",
    "tri=Triangle(ba,h)\n",
    "r=int(input(\"enter radius\"))\n",
    "cir=Circle(r)\n",
    "shapes=[rec,tri,cir]\n",
    "for shape in shapes:\n",
    "    print(f\" Area of {shape.__class__.__name__} is {shape.calculate_area()}\")\n",
    "\n"
   ]
  },
  {
   "cell_type": "markdown",
   "metadata": {},
   "source": [
    " Create a class called Vehicle with attributes make and model. Implement a method called start_engine that prints a message indicating the vehicle has started. Implement subclasses Car and Motorcycle that inherit from Vehicle and override the start_engine method to provide vehicle-specific messages."
   ]
  },
  {
   "cell_type": "code",
   "execution_count": 11,
   "metadata": {},
   "outputs": [
    {
     "name": "stdout",
     "output_type": "stream",
     "text": [
      "The car toyoto corolla engine has roared to life!\n",
      "The motorcycle harley-davidson street 750  engine has started with a vroom!\n"
     ]
    }
   ],
   "source": [
    "class Vehicle:\n",
    "    def __init__(self, make, model):\n",
    "        self.make = make\n",
    "        self.model = model\n",
    "    def start_engine(self):\n",
    "        print(f\"The engine of the {self.make} {self.model} has started.\")\n",
    "class Car(Vehicle):\n",
    "    def start_engine(self):\n",
    "        print(f\"The car {self.make} {self.model} engine has roared to life!\")\n",
    "class Motorcycle(Vehicle):\n",
    "    def start_engine(self):\n",
    "        print(f\"The motorcycle {self.make} {self.model} engine has started with a vroom!\")\n",
    "make=input(\"enter car name\")\n",
    "model=input(\"enter car model\")\n",
    "car = Car(make,model)\n",
    "make=input(\"enter car name\")\n",
    "model=input(\"enter car model\")\n",
    "motorcycle = Motorcycle(make,model)\n",
    "car.start_engine()\n",
    "motorcycle.start_engine()\n"
   ]
  },
  {
   "cell_type": "markdown",
   "metadata": {},
   "source": [
    "Create a class called Person with attributes name and age. Implement a subclass called Employee that inherits from Person and adds an attribute employee_id. Demonstrate encapsulation by making the name and age attributes private and providing getter and setter methods to access and modify "
   ]
  },
  {
   "cell_type": "code",
   "execution_count": 13,
   "metadata": {},
   "outputs": [
    {
     "name": "stdout",
     "output_type": "stream",
     "text": [
      "Employee Name: priya\n",
      "Employee Age: 30\n",
      "Employee ID: 2765432\n",
      "Updated Employee Name: Jane Smith\n",
      "Updated Employee Age: 35\n",
      "Employee ID remains the same: 2765432\n"
     ]
    }
   ],
   "source": [
    "class Person:\n",
    "    def __init__(self,name,age):\n",
    "        self.__name=name\n",
    "        self.__age=age\n",
    "    def get_name(self):\n",
    "        return self.__name \n",
    "    def set_name(self, name):\n",
    "        self.__name = name\n",
    "    def get_age(self):\n",
    "        return self.__age\n",
    "    def set_age(self, age):\n",
    "        self.__age = age\n",
    "class Employee(Person):\n",
    "    def __init__(self,name,age,employee_id):\n",
    "        super().__init__(name, age)\n",
    "        self.employee_id=employee_id\n",
    "name=input(\"enter name\")\n",
    "age=input(\"enter age\")\n",
    "id=input(\"enter employee id\")\n",
    "employee = Employee(name, age,id)\n",
    "print(f\"Employee Name: {employee.get_name()}\")\n",
    "print(f\"Employee Age: {employee.get_age()}\")\n",
    "print(f\"Employee ID: {employee.employee_id}\")\n",
    "employee.set_name(\"Jane Smith\")\n",
    "employee.set_age(35)\n",
    "print(f\"Updated Employee Name: {employee.get_name()}\")\n",
    "print(f\"Updated Employee Age: {employee.get_age()}\")\n",
    "print(f\"Employee ID remains the same: {employee.employee_id}\")\n"
   ]
  },
  {
   "cell_type": "markdown",
   "metadata": {},
   "source": [
    "Create a class called Employee with attributes name, age, and salary. Implement a subclass called Manager that inherits from Employee and adds an attribute department. Demonstrate encapsulation by making the salary attribute protected and providing a method to access it within the Manager class."
   ]
  },
  {
   "cell_type": "code",
   "execution_count": 14,
   "metadata": {},
   "outputs": [
    {
     "name": "stdout",
     "output_type": "stream",
     "text": [
      "Employee Name: priya\n",
      "Age: 30\n",
      "Salary:50000\n"
     ]
    }
   ],
   "source": [
    "class Employee:\n",
    "    def __init__(self,name,age,salary):\n",
    "        self.name=name\n",
    "        self.age=age\n",
    "        self.salary=salary\n",
    "class Manager(Employee):\n",
    "    def __init(self,department):\n",
    "        super().__init__(name,age)\n",
    "        self.__department=department\n",
    "        \n",
    "name=input(\"enter name\")\n",
    "age=input(\"enter age\")\n",
    "salary=input(\"enter employee salary\")\n",
    "obj=Manager(name,age,salary)\n",
    "print(f\"Employee Name: {obj.name}\")\n",
    "print(f\"Age: {obj.age}\") \n",
    "print(f\"Salary:{obj.salary}\")       \n",
    "        "
   ]
  },
  {
   "cell_type": "markdown",
   "metadata": {},
   "source": [
    "Create a class called BankAccount with attributes account_number and balance. Implement methods to deposit and withdraw funds from the account. Add a class variable called total_accounts to keep track of the total number of bank accounts created."
   ]
  },
  {
   "cell_type": "code",
   "execution_count": 18,
   "metadata": {},
   "outputs": [
    {
     "name": "stdout",
     "output_type": "stream",
     "text": [
      "Deposited $200. New balance: $1200.\n",
      "Withdrew $150. New balance: $1050.\n",
      "Deposited $100. New balance: $600.\n",
      "Insufficient funds.\n",
      "Total bank accounts created: 2\n"
     ]
    }
   ],
   "source": [
    "class BankAccount:\n",
    "    total_accounts = 0\n",
    "    def __init__(self,account_number,balance):\n",
    "        self.account_number=account_number\n",
    "        self.balance=balance\n",
    "        BankAccount.total_accounts += 1\n",
    "    def deposit(self, amount):\n",
    "        if amount > 0:\n",
    "            self.balance += amount\n",
    "            print(f\"Deposited ${amount}. New balance: ${self.balance}.\")\n",
    "        else:\n",
    "            print(\"Deposit amount must be positive.\")\n",
    "    def withdraw(self, amount):\n",
    "        if 0 < amount <= self.balance:\n",
    "            self.balance -= amount\n",
    "            print(f\"Withdrew ${amount}. New balance: ${self.balance}.\")\n",
    "        elif amount > self.balance:\n",
    "            print(\"Insufficient funds.\")\n",
    "        else:\n",
    "            print(\"Withdrawal amount must be positive.\")\n",
    "account1 = BankAccount(\"123456789\", 1000)\n",
    "account2 = BankAccount(\"987654321\", 500)\n",
    "account1.deposit(200)\n",
    "account1.withdraw(150)\n",
    "account2.deposit(100)\n",
    "account2.withdraw(700)\n",
    "print(f\"Total bank accounts created: {BankAccount.total_accounts}\")"
   ]
  },
  {
   "cell_type": "markdown",
   "metadata": {},
   "source": []
  },
  {
   "cell_type": "code",
   "execution_count": null,
   "metadata": {},
   "outputs": [],
   "source": []
  }
 ],
 "metadata": {
  "kernelspec": {
   "display_name": "Python 3",
   "language": "python",
   "name": "python3"
  },
  "language_info": {
   "codemirror_mode": {
    "name": "ipython",
    "version": 3
   },
   "file_extension": ".py",
   "mimetype": "text/x-python",
   "name": "python",
   "nbconvert_exporter": "python",
   "pygments_lexer": "ipython3",
   "version": "3.12.4"
  }
 },
 "nbformat": 4,
 "nbformat_minor": 2
}
