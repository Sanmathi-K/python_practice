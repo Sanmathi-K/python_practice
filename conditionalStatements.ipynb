{
 "cells": [
  {
   "cell_type": "code",
   "execution_count": 1,
   "metadata": {},
   "outputs": [
    {
     "name": "stdout",
     "output_type": "stream",
     "text": [
      "your grade is B\n"
     ]
    }
   ],
   "source": [
    "m=int(input(\"enter mark:\"))\n",
    "if m>80:\n",
    "    print('your grade is A')\n",
    "elif m<=80 and m>60:\n",
    "    print('your grade is B')\n",
    "elif m<=60 and m>40:\n",
    "    print('your grade is C')\n",
    "else:\n",
    "    print('your grade is D')\n"
   ]
  },
  {
   "cell_type": "code",
   "execution_count": 7,
   "metadata": {},
   "outputs": [
    {
     "name": "stdout",
     "output_type": "stream",
     "text": [
      "64 is divisible by 4\n"
     ]
    }
   ],
   "source": [
    "n=int(input(\"enter a number:\"))\n",
    "if n%4==0:\n",
    "    print(n,\"is divisible by 4\")\n",
    "else:\n",
    "    print(n,\"is not divisible by 4\")"
   ]
  },
  {
   "cell_type": "code",
   "execution_count": 3,
   "metadata": {},
   "outputs": [
    {
     "name": "stdout",
     "output_type": "stream",
     "text": [
      "Age: 15\n",
      "you need 3 more years to learn to drive\n"
     ]
    }
   ],
   "source": [
    "age=int(input(\"enter age:\"))\n",
    "print(\"Age:\",age)\n",
    "if(age>=18):\n",
    "    print(\"You are old enough to drive\")\n",
    "else:\n",
    "    age=18-age\n",
    "    print(\"you need\",age,\"more years to learn to drive\")"
   ]
  },
  {
   "cell_type": "code",
   "execution_count": 4,
   "metadata": {},
   "outputs": [
    {
     "name": "stdout",
     "output_type": "stream",
     "text": [
      "number1: 7\n",
      "number2: 4\n",
      "7 is greater than 4\n"
     ]
    }
   ],
   "source": [
    "n1=int(input(\"enter n1\"))\n",
    "n2=int(input(\"enter n2:\"))\n",
    "print(\"number1:\",n1)\n",
    "print(\"number2:\",n2)\n",
    "if(n1>n2):\n",
    "    print(n1,\"is greater than\",n2)\n",
    "elif(n2>n1):\n",
    "    print(n2,\"is greater than\",n1)\n",
    "else:\n",
    "    print(n1,\"and\", n2 ,\"are equal\")\n"
   ]
  },
  {
   "cell_type": "code",
   "execution_count": 5,
   "metadata": {},
   "outputs": [
    {
     "name": "stdout",
     "output_type": "stream",
     "text": [
      "B\n"
     ]
    }
   ],
   "source": [
    "m=int(input(\"enter mark\"))\n",
    "if(m>=90 and m<=100):\n",
    "    print(\"A\")\n",
    "elif(m>=70 and m<=89):\n",
    "    print(\"B\")\n",
    "elif(m>=60 and m<=79):\n",
    "     print(\"C\")\n",
    "elif(m>=50 and m<=69):\n",
    "     print(\"D\")\n",
    "elif(m>=40 and m<=59):\n",
    "     print(\"E\")\n",
    "else:\n",
    "     print(\"F\")"
   ]
  },
  {
   "cell_type": "code",
   "execution_count": 7,
   "metadata": {},
   "outputs": [
    {
     "name": "stdout",
     "output_type": "stream",
     "text": [
      "Season: may\n",
      "this is spring season\n"
     ]
    }
   ],
   "source": [
    "s=input(\"enter month\")\n",
    "print(\"Season:\",s)\n",
    "if s==\"september\" or s==\"october\" or s==\"november\":\n",
    "    print(\"this is autumn season\")\n",
    "elif s==\"december\" or s==\"january\" or s==\"febrauary\":\n",
    "    print(\"this is winter season\")\n",
    "elif s==\"march\" or s==\"april\" or s==\"may\":\n",
    "    print(\"this is spring season\")\n",
    "else:\n",
    "    print(\"this is summer season\")\n",
    "\n"
   ]
  },
  {
   "cell_type": "code",
   "execution_count": 8,
   "metadata": {},
   "outputs": [
    {
     "name": "stdout",
     "output_type": "stream",
     "text": [
      "['banana', 'orange', 'mango', 'lemon', 'watermelon']\n"
     ]
    }
   ],
   "source": [
    "fruits=['banana','orange','mango','lemon']\n",
    "f=input(\"enter fruit\")\n",
    "if f in fruits:\n",
    "    print(f,\"already exists in the list\")\n",
    "else:\n",
    "    fruits.append(f)\n",
    "    print(fruits[:])"
   ]
  },
  {
   "cell_type": "markdown",
   "metadata": {},
   "source": [
    "7th need to be completed"
   ]
  },
  {
   "cell_type": "code",
   "execution_count": 8,
   "metadata": {},
   "outputs": [
    {
     "name": "stdout",
     "output_type": "stream",
     "text": [
      "MongoDB\n",
      "unknown title\n"
     ]
    }
   ],
   "source": [
    "person={ 'first_name': 'Asabeneh','last_name': 'Yetayeh',\n",
    "\n",
    "                    'age': 250,\n",
    "\n",
    "                    'country': 'Finland',\n",
    "\n",
    "                    'is_marred': True,\n",
    "\n",
    "                    'skills': ['JavaScript', 'React', 'Node', 'MongoDB', 'Python'],\n",
    "\n",
    "                    'address': {\n",
    "\n",
    "                    'street': 'Space street',\n",
    "\n",
    "                    'zipcode': '02210'\n",
    "                    }\n",
    "                    }\n",
    "if 'skills' in person:\n",
    "    skills = person['skills']\n",
    "    mi=len('skills')//2\n",
    "    print(skills[mi])\n",
    "    if 'python' in skills:\n",
    "        print(\"python\")\n",
    "    if 'skills'=='Javascript' and 'skills'=='React':\n",
    "        print('He is a front end developer')\n",
    "    if 'skills'=='Node' and 'skills'=='python' and 'skills' =='MongoDB':\n",
    "        print(\"He is a backend developer\")\n",
    "    if 'skills'=='Node' and 'skills'=='React' and 'skills' =='MongoDB':\n",
    "        print(\"he is a fullstack developer\")\n",
    "    else:\n",
    "        print(\"unknown title\")\n",
    "else:\n",
    "    print(\"not present\")\n"
   ]
  }
 ],
 "metadata": {
  "kernelspec": {
   "display_name": "Python 3",
   "language": "python",
   "name": "python3"
  },
  "language_info": {
   "codemirror_mode": {
    "name": "ipython",
    "version": 3
   },
   "file_extension": ".py",
   "mimetype": "text/x-python",
   "name": "python",
   "nbconvert_exporter": "python",
   "pygments_lexer": "ipython3",
   "version": "3.12.4"
  }
 },
 "nbformat": 4,
 "nbformat_minor": 2
}
