{
 "cells": [
  {
   "cell_type": "code",
   "execution_count": 1,
   "metadata": {},
   "outputs": [
    {
     "name": "stdout",
     "output_type": "stream",
     "text": [
      "Current directory: c:\\Users\\SANMATHI\\Documents\\python_practice\n"
     ]
    }
   ],
   "source": [
    "import os\n",
    "current_directory = os.getcwd()\n",
    "print(\"Current directory:\", current_directory)"
   ]
  },
  {
   "cell_type": "code",
   "execution_count": 2,
   "metadata": {},
   "outputs": [
    {
     "name": "stdout",
     "output_type": "stream",
     "text": [
      "Files and directories in the directory: ['.git', '.gitattributes', '00modules', 'class.ipynb', 'conditionalStatements.ipynb', 'decorators', 'FileHandling.ipynb', 'functions.ipynb', 'loops.ipynb', 'loops_prac.ipynb', 'modules', 'oopsconcepts.ipynb', 'oopsPractice.ipynb', 'practice.ipynb', 'README.md', 'sample.ipynb', 'strings.ipynb', 'str_practice.ipynb', 'tasks', 'variables.ipynb', 'var_prac.ipynb']\n"
     ]
    }
   ],
   "source": [
    "\n",
    "import os\n",
    "files_and_dirs = os.listdir(os.getcwd())\n",
    "print(\"Files and directories in the directory:\", files_and_dirs)"
   ]
  },
  {
   "cell_type": "code",
   "execution_count": 3,
   "metadata": {},
   "outputs": [
    {
     "name": "stdout",
     "output_type": "stream",
     "text": [
      "Path does not exist.\n"
     ]
    }
   ],
   "source": [
    "\n",
    "import os\n",
    "path = r\"08-File reading and folder\\dummy_folder\"\n",
    "if os.path.exists(path):\n",
    "    print(\"Path exists.\")\n",
    "else:\n",
    "    print(\"Path does not exist.\")"
   ]
  },
  {
   "cell_type": "code",
   "execution_count": 4,
   "metadata": {},
   "outputs": [
    {
     "name": "stdout",
     "output_type": "stream",
     "text": [
      "Path exists.\n"
     ]
    }
   ],
   "source": [
    "import os\n",
    "path = r\"C:\\Users\\SANMATHI\\Documents\\python_practice\\practice.ipynb\"\n",
    "if os.path.exists(path):\n",
    "    print(\"Path exists.\")\n",
    "else:\n",
    "    print(\"Path does not exist.\")"
   ]
  },
  {
   "cell_type": "code",
   "execution_count": 15,
   "metadata": {},
   "outputs": [
    {
     "name": "stdout",
     "output_type": "stream",
     "text": [
      "It is not a directory.\n"
     ]
    }
   ],
   "source": [
    "import os\n",
    "path = \"python_practice/oopsPractice.ipynb\"\n",
    "if os.path.isdir(path):\n",
    "    print(\"It is a directory.\")\n",
    "else:\n",
    "    print(\"It is not a directory.\")"
   ]
  },
  {
   "cell_type": "code",
   "execution_count": 11,
   "metadata": {},
   "outputs": [
    {
     "name": "stdout",
     "output_type": "stream",
     "text": [
      "It is a file.\n"
     ]
    }
   ],
   "source": [
    "import os\n",
    "path = \"oopsPractice.ipynb\"\n",
    "if os.path.isfile(path):\n",
    "    print(\"It is a file.\")\n",
    "else:\n",
    "    print(\"It is not a file.\")"
   ]
  },
  {
   "cell_type": "code",
   "execution_count": 17,
   "metadata": {},
   "outputs": [],
   "source": [
    "import os\n",
    "os.mkdir(\"C:/Users/SANMATHI/Documents/python_practice/new_directory\")\n"
   ]
  },
  {
   "cell_type": "code",
   "execution_count": 18,
   "metadata": {},
   "outputs": [
    {
     "name": "stdout",
     "output_type": "stream",
     "text": [
      "Currently looking at folder: new_directory\n",
      "\n",
      "\n",
      "THE SUBFOLDERS ARE: \n",
      "\t Subfolder: subfolder\n",
      "\n",
      "\n",
      "THE FILES ARE: \n",
      "\n",
      "\n",
      "Currently looking at folder: new_directory\\subfolder\n",
      "\n",
      "\n",
      "THE SUBFOLDERS ARE: \n",
      "\n",
      "\n",
      "THE FILES ARE: \n",
      "\t File: dummy.txt\n",
      "\n",
      "\n"
     ]
    }
   ],
   "source": [
    "for folder , sub_folders , files in os.walk(\"new_directory\"):\n",
    "    \n",
    "    print(\"Currently looking at folder: \"+ folder)\n",
    "    print('\\n')\n",
    "    print(\"THE SUBFOLDERS ARE: \")\n",
    "    for sub_fold in sub_folders:\n",
    "        print(\"\\t Subfolder: \"+sub_fold )\n",
    "    \n",
    "    print('\\n')\n",
    "    \n",
    "    print(\"THE FILES ARE: \")\n",
    "    for f in files:\n",
    "        print(\"\\t File: \"+f)\n",
    "    print('\\n')"
   ]
  },
  {
   "cell_type": "code",
   "execution_count": 28,
   "metadata": {},
   "outputs": [],
   "source": [
    "f = open('dummy.txt','w') "
   ]
  },
  {
   "cell_type": "code",
   "execution_count": 32,
   "metadata": {},
   "outputs": [
    {
     "ename": "TypeError",
     "evalue": "TextIOWrapper.close() takes no arguments (1 given)",
     "output_type": "error",
     "traceback": [
      "\u001b[1;31m---------------------------------------------------------------------------\u001b[0m",
      "\u001b[1;31mTypeError\u001b[0m                                 Traceback (most recent call last)",
      "Cell \u001b[1;32mIn[32], line 1\u001b[0m\n\u001b[1;32m----> 1\u001b[0m \u001b[43mf\u001b[49m\u001b[38;5;241;43m.\u001b[39;49m\u001b[43mclose\u001b[49m\u001b[43m(\u001b[49m\u001b[38;5;124;43m\"\u001b[39;49m\u001b[38;5;124;43mdummy.txt\u001b[39;49m\u001b[38;5;124;43m\"\u001b[39;49m\u001b[43m)\u001b[49m\n",
      "\u001b[1;31mTypeError\u001b[0m: TextIOWrapper.close() takes no arguments (1 given)"
     ]
    }
   ],
   "source": [
    "f.close(\"dummy.txt\")"
   ]
  },
  {
   "cell_type": "code",
   "execution_count": 33,
   "metadata": {},
   "outputs": [
    {
     "name": "stdout",
     "output_type": "stream",
     "text": [
      "File Name:  dummy.txt\n",
      "File Mode:  w\n",
      "Is file readable:  False\n",
      "Is file Writable:  True\n",
      "Is file closed:  False\n",
      "Is file closed:  True\n"
     ]
    }
   ],
   "source": [
    "f = open(\"dummy.txt\", 'w')\n",
    "\n",
    "# Print the name of the file.\n",
    "print('File Name: ', f.name)\n",
    "\n",
    "# Print the mode in which the file was opened.\n",
    "print('File Mode: ', f.mode)\n",
    "\n",
    "# Check if the file is readable. Since it's opened in write mode, it's not readable.\n",
    "print('Is file readable: ', f.readable())\n",
    "\n",
    "# Check if the file is writable. Since it's opened in write mode, it's writable.\n",
    "print('Is file Writable: ', f.writable())\n",
    "\n",
    "# Check if the file is closed. Since it's still open, it's not closed.\n",
    "print('Is file closed: ', f.closed)\n",
    "\n",
    "# Close the file.\n",
    "f.close()\n",
    "\n",
    "# Check if the file is closed after closing it. It should be closed now.\n",
    "print('Is file closed: ', f.closed)"
   ]
  },
  {
   "cell_type": "code",
   "execution_count": 34,
   "metadata": {},
   "outputs": [],
   "source": [
    "content = \"This is some content to be written to a file.\"\n",
    "\n",
    "with open('dummy.txt', 'w') as f:\n",
    "    f.write(content)"
   ]
  },
  {
   "cell_type": "code",
   "execution_count": 35,
   "metadata": {},
   "outputs": [
    {
     "name": "stdout",
     "output_type": "stream",
     "text": [
      "<class 'list'>\n",
      "['This is some content to be written to a file.']\n",
      "This is some content to be written to a file.\n"
     ]
    }
   ],
   "source": [
    "with open('dummy.txt', 'r') as f:\n",
    "    lines = f.readlines()\n",
    "    print(type(lines))\n",
    "    print(lines)\n",
    "    for line in lines:\n",
    "        print(line.strip()) "
   ]
  },
  {
   "cell_type": "code",
   "execution_count": 36,
   "metadata": {},
   "outputs": [
    {
     "name": "stdout",
     "output_type": "stream",
     "text": [
      "This is so\n"
     ]
    }
   ],
   "source": [
    "with open('dummy.txt','r') as f:\n",
    "    data = f.read(10)\n",
    "    print(data)"
   ]
  },
  {
   "cell_type": "code",
   "execution_count": 37,
   "metadata": {},
   "outputs": [
    {
     "name": "stdout",
     "output_type": "stream",
     "text": [
      "This is some content to be written to a file.\n"
     ]
    }
   ],
   "source": [
    "with open('dummy.txt','r') as f:\n",
    "    data = f.read()\n",
    "    print(data)"
   ]
  },
  {
   "cell_type": "code",
   "execution_count": 39,
   "metadata": {},
   "outputs": [],
   "source": [
    "additional_content = \"\\nThis is additional content.\"\n",
    "\n",
    "with open('dummy.txt', 'a') as f:  \n",
    "    f.write(additional_content)"
   ]
  },
  {
   "cell_type": "code",
   "execution_count": 40,
   "metadata": {},
   "outputs": [],
   "source": [
    "lines = [\"First line.\\n\", \"Second line.\\n\", \"Third line.\\n\"]\n",
    "\n",
    "with open('dummy.txt', 'w') as f:\n",
    "    f.writelines(lines)"
   ]
  },
  {
   "cell_type": "code",
   "execution_count": 41,
   "metadata": {},
   "outputs": [],
   "source": [
    "lines = [\"Line 1\\n\", \"Line 2\\n\", \"Line 3\\n\"]\n",
    "\n",
    "with open('dummy.txt', 'w') as f:\n",
    "    for line in lines:\n",
    "        f.write(line)"
   ]
  },
  {
   "cell_type": "code",
   "execution_count": null,
   "metadata": {},
   "outputs": [],
   "source": [
    "with open('example.txt', 'r') as file:\n",
    "    print(\"Current position:\", file.tell()) \n",
    "    data = file.read(10) \n",
    "    print(\"After reading 10 characters:\", file.tell())  \n",
    "    file.seek(0)\n",
    "    print(\"After seeking back to the beginning:\", file.tell())  #"
   ]
  }
 ],
 "metadata": {
  "kernelspec": {
   "display_name": "Python 3",
   "language": "python",
   "name": "python3"
  },
  "language_info": {
   "codemirror_mode": {
    "name": "ipython",
    "version": 3
   },
   "file_extension": ".py",
   "mimetype": "text/x-python",
   "name": "python",
   "nbconvert_exporter": "python",
   "pygments_lexer": "ipython3",
   "version": "3.12.4"
  }
 },
 "nbformat": 4,
 "nbformat_minor": 2
}
