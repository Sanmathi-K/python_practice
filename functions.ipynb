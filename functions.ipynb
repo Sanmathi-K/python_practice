{
 "cells": [
  {
   "cell_type": "code",
   "execution_count": 3,
   "metadata": {},
   "outputs": [
    {
     "name": "stdout",
     "output_type": "stream",
     "text": [
      "5\n"
     ]
    }
   ],
   "source": [
    "v1=int(input(\"enter n1\"))\n",
    "v2=int(input(\"enter n2\"))\n",
    "def add(v1,v2):\n",
    "    sum=v1+v2\n",
    "    return sum\n",
    "sum=add(v1,v2)\n",
    "print(sum)\n"
   ]
  },
  {
   "cell_type": "code",
   "execution_count": 14,
   "metadata": {},
   "outputs": [
    {
     "name": "stdout",
     "output_type": "stream",
     "text": [
      "20\n",
      "30\n",
      "60\n"
     ]
    }
   ],
   "source": [
    "def add(a,c,b=5):\n",
    "    print(b)\n",
    "    print(c)\n",
    "    return (a+b+c)\n",
    "print (add(10,c=30,b=20))\n"
   ]
  },
  {
   "cell_type": "code",
   "execution_count": 21,
   "metadata": {},
   "outputs": [
    {
     "name": "stdout",
     "output_type": "stream",
     "text": [
      "2 3 (4, 5, 6, 7, 8)\n"
     ]
    }
   ],
   "source": [
    "def add(a,b,*c):\n",
    "    print(a,b,c)\n",
    "   # return (a+b+c)\n",
    "\n",
    "add(2,3,4,5,6,7,8)"
   ]
  },
  {
   "cell_type": "markdown",
   "metadata": {},
   "source": [
    "Write a Python function called calculate_average that takes a list of numbers as input and returns their average."
   ]
  },
  {
   "cell_type": "code",
   "execution_count": 6,
   "metadata": {},
   "outputs": [
    {
     "name": "stdout",
     "output_type": "stream",
     "text": [
      "24.0\n"
     ]
    }
   ],
   "source": [
    "def calculate_average(li):\n",
    "    sum=0\n",
    "    for i in li:\n",
    "        sum=sum+i\n",
    "    avg=sum/len(li)\n",
    "    print(avg)\n",
    "li=[]\n",
    "while True:\n",
    "    e=input()\n",
    "    if e==\"ok\":\n",
    "        break\n",
    "    else:\n",
    "\n",
    "        li.append(float(e))\n",
    "calculate_average(li)"
   ]
  },
  {
   "cell_type": "code",
   "execution_count": 2,
   "metadata": {},
   "outputs": [
    {
     "name": "stdout",
     "output_type": "stream",
     "text": [
      "[4, 5, 6, 3, 2]\n",
      "6\n"
     ]
    }
   ],
   "source": [
    "def largest_number(li):\n",
    "    if not li:\n",
    "        print(\"empty\")\n",
    "        return\n",
    "    m = li[0]\n",
    "    for i in li:\n",
    "        if i > m:\n",
    "            m = i\n",
    "    print(m)\n",
    "\n",
    "li = []\n",
    "while True:\n",
    "    e = input()\n",
    "    if e == 'ok':\n",
    "        break\n",
    "    else:\n",
    "        li.append(int(e))\n",
    "print(li)\n",
    "largest_number(li)\n"
   ]
  },
  {
   "cell_type": "markdown",
   "metadata": {},
   "source": [
    "Write a Python function called reverse_string that takes a string as input and returns the reverse of the string."
   ]
  },
  {
   "cell_type": "code",
   "execution_count": 4,
   "metadata": {},
   "outputs": [
    {
     "name": "stdout",
     "output_type": "stream",
     "text": [
      "string: welcome\n"
     ]
    },
    {
     "data": {
      "text/plain": [
       "'emoclew'"
      ]
     },
     "execution_count": 4,
     "metadata": {},
     "output_type": "execute_result"
    }
   ],
   "source": [
    "def reverse_string(s):\n",
    "    s1=\"\"\n",
    "    for i in s:\n",
    "        s1=i+s1\n",
    "    return s1\n",
    "s=input(\"enter string\")\n",
    "print(\"string:\",s)\n",
    "reverse_string(s)"
   ]
  },
  {
   "cell_type": "markdown",
   "metadata": {},
   "source": [
    "Write a Python function called count_vowels that takes a string as input and returns the count of vowels (a, e, i, o, u) in the string."
   ]
  },
  {
   "cell_type": "code",
   "execution_count": 6,
   "metadata": {},
   "outputs": [
    {
     "name": "stdout",
     "output_type": "stream",
     "text": [
      "String: welcome\n"
     ]
    },
    {
     "data": {
      "text/plain": [
       "3"
      ]
     },
     "execution_count": 6,
     "metadata": {},
     "output_type": "execute_result"
    }
   ],
   "source": [
    "def count(s,vowels):\n",
    "    c=0\n",
    "    for i in s:\n",
    "        if i in vowels:\n",
    "            c+=1\n",
    "    return c\n",
    "s=input(\"enter string\")\n",
    "print(\"String:\",s)\n",
    "vowels=['a','e','i','o','u']\n",
    "count(s,vowels)"
   ]
  },
  {
   "cell_type": "markdown",
   "metadata": {},
   "source": [
    "Write a Python function called is_prime that takes an integer as input and returns True if it is a prime number, False otherwise."
   ]
  },
  {
   "cell_type": "code",
   "execution_count": 9,
   "metadata": {},
   "outputs": [
    {
     "name": "stdout",
     "output_type": "stream",
     "text": [
      "19 is prime number\n"
     ]
    }
   ],
   "source": [
    "def prime(n):\n",
    "    for i  in range(2,n-2):\n",
    "        if n%i==0:\n",
    "            print(n,\"is not prime\")\n",
    "            break\n",
    "        else:\n",
    "            print(n,\"is prime number\")\n",
    "            break\n",
    "n=int(input(\"enter number\"))\n",
    "prime(n)"
   ]
  },
  {
   "cell_type": "markdown",
   "metadata": {},
   "source": [
    "Write a Python function called remove_duplicates that takes a list as input and returns a new list with duplicates removed.\n"
   ]
  },
  {
   "cell_type": "code",
   "execution_count": 2,
   "metadata": {},
   "outputs": [
    {
     "name": "stdout",
     "output_type": "stream",
     "text": [
      "Enter elements one by one, and type 'done' when you are finished:\n",
      "original list: ['4', '5', '6', '7', '5', '3', '2', '9', '8', '5', '8']\n",
      "after removing duplicates ['5', '9', '7', '2', '4', '6', '3', '8']\n"
     ]
    }
   ],
   "source": [
    "def remove_duplicates(li):\n",
    "    return list(set(input_list))\n",
    "input_list = []\n",
    "print(\"Enter elements one by one, and type 'done' when you are finished:\")\n",
    "\n",
    "while True:\n",
    "    e = input()\n",
    "    if e.lower() == \"done\":\n",
    "        break\n",
    "    else:\n",
    "        input_list.append(e)\n",
    "\n",
    "removed=remove_duplicates(input_list)\n",
    "print(\"original list:\",input_list)\n",
    "print(\"after removing duplicates\",removed)\n"
   ]
  },
  {
   "cell_type": "markdown",
   "metadata": {},
   "source": [
    "Write a Python function called factorial that takes a positive integer as input and returns its factorial."
   ]
  },
  {
   "cell_type": "code",
   "execution_count": 6,
   "metadata": {},
   "outputs": [
    {
     "name": "stdout",
     "output_type": "stream",
     "text": [
      "Factorial of 5 is: 120\n"
     ]
    }
   ],
   "source": [
    "def factorial(n):\n",
    "    fact=1\n",
    "    for i in range(1,n+1):\n",
    "        fact=fact*i\n",
    "    print(\"Factorial of\",n,\"is:\",fact)\n",
    "n=int(input(\"enter number\"))\n",
    "factorial(n)\n"
   ]
  },
  {
   "cell_type": "markdown",
   "metadata": {},
   "source": [
    "Write a Python function called is_palindrome that takes a string as input and returns True if it is a palindrome (reads the same forwards and backwards), False otherwise."
   ]
  },
  {
   "cell_type": "code",
   "execution_count": 7,
   "metadata": {},
   "outputs": [
    {
     "name": "stdout",
     "output_type": "stream",
     "text": [
      "malayalam is a palindrome.\n"
     ]
    }
   ],
   "source": [
    "def is_palindrome(s):\n",
    "    s=s.replace(\" \",\"\").lower()\n",
    "    return s==s[::-1]\n",
    "t=input(\"enter string\")\n",
    "#t=is_palindrome(s)\n",
    "if is_palindrome(s):\n",
    "    print(t,\"is a palindrome.\")\n",
    "else:\n",
    "    print(t,\"is not a palindrome.\")"
   ]
  },
  {
   "cell_type": "markdown",
   "metadata": {},
   "source": [
    "Write a Python function called find_common_elements that takes two lists as input and returns a new list containing the common elements between the two lists."
   ]
  },
  {
   "cell_type": "code",
   "execution_count": 11,
   "metadata": {},
   "outputs": [
    {
     "name": "stdout",
     "output_type": "stream",
     "text": [
      "list 1: ['4', '5', '6', '7', '8', '9']\n",
      "list 2: ['2', '3', '6', '5', '8']\n",
      "common list is: ['6', '5', '8']\n"
     ]
    }
   ],
   "source": [
    "def find_common_elements(l1,l2):\n",
    "    commonlist=list(set(l1)&set(l2))\n",
    "    return commonlist\n",
    "l1=[]\n",
    "while True:\n",
    "    e=input()\n",
    "    if e.lower()=='ok':\n",
    "       break\n",
    "    else:\n",
    "        l1.append(e)\n",
    "l2=[]\n",
    "while True:\n",
    "    e=input()\n",
    "    if e.lower()=='ok':\n",
    "       break\n",
    "    else:\n",
    "        l2.append(e)\n",
    "print(\"list 1:\",l1)\n",
    "print(\"list 2:\",l2)\n",
    "commonlist=find_common_elements(l1,l2)\n",
    "print(\"common list is:\",commonlist)"
   ]
  },
  {
   "cell_type": "markdown",
   "metadata": {},
   "source": [
    "Write a Python function called binary_search that takes a sorted list and a target value as input and returns the index of the target value in the list, or -1 if it is not found."
   ]
  },
  {
   "cell_type": "markdown",
   "metadata": {},
   "source": [
    "Write a Python function called capitalize_words that takes a sentence as input and returns the sentence with the first letter of each word capitalized."
   ]
  },
  {
   "cell_type": "code",
   "execution_count": 14,
   "metadata": {},
   "outputs": [
    {
     "name": "stdout",
     "output_type": "stream",
     "text": [
      "This Is A Program\n"
     ]
    }
   ],
   "source": [
    "def capitalize_words(s):\n",
    "    t = ' '.join(word.capitalize() for word in s.split())\n",
    "    return t\n",
    "s=input(\"enter a string\")\n",
    "t=capitalize_words(s)\n",
    "print(t)"
   ]
  },
  {
   "cell_type": "markdown",
   "metadata": {},
   "source": [
    "Write a Python function called find_missing_number that takes a list of consecutive numbers (with one number missing) as input and returns the missing number."
   ]
  },
  {
   "cell_type": "code",
   "execution_count": null,
   "metadata": {},
   "outputs": [],
   "source": []
  },
  {
   "cell_type": "markdown",
   "metadata": {},
   "source": [
    "Write a Python function called find_longest_word that takes a sentence as input and returns the longest word in the sentence.\n"
   ]
  },
  {
   "cell_type": "code",
   "execution_count": 9,
   "metadata": {},
   "outputs": [
    {
     "name": "stdout",
     "output_type": "stream",
     "text": [
      "program to find longest word\n",
      "program is the longest word in the sentence\n"
     ]
    }
   ],
   "source": [
    "def find_longest_word(s):\n",
    "    words=s.split()\n",
    "    longest_word=max(words,key=len)\n",
    "    return longest_word\n",
    "\n",
    "s=input(\"enter a string\")\n",
    "longest_word= find_longest_word(s)\n",
    "print(s)\n",
    "print(longest_word,\"is the longest word in the sentence\")"
   ]
  },
  {
   "cell_type": "markdown",
   "metadata": {},
   "source": [
    "Write a Python function called is_anagram that takes two strings as input and returns True if they are anagrams (contain the same characters in a different order), False otherwise.\n"
   ]
  },
  {
   "cell_type": "markdown",
   "metadata": {},
   "source": [
    "Write a Python function called merge_sorted_lists that takes two sorted lists as input and returns a new list that merges the two lists while maintaining the sorted order."
   ]
  }
 ],
 "metadata": {
  "kernelspec": {
   "display_name": "Python 3",
   "language": "python",
   "name": "python3"
  },
  "language_info": {
   "codemirror_mode": {
    "name": "ipython",
    "version": 3
   },
   "file_extension": ".py",
   "mimetype": "text/x-python",
   "name": "python",
   "nbconvert_exporter": "python",
   "pygments_lexer": "ipython3",
   "version": "3.12.4"
  }
 },
 "nbformat": 4,
 "nbformat_minor": 2
}
