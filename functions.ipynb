{
 "cells": [
  {
   "cell_type": "code",
   "execution_count": 3,
   "metadata": {},
   "outputs": [
    {
     "name": "stdout",
     "output_type": "stream",
     "text": [
      "5\n"
     ]
    }
   ],
   "source": [
    "v1=int(input(\"enter n1\"))\n",
    "v2=int(input(\"enter n2\"))\n",
    "def add(v1,v2):\n",
    "    sum=v1+v2\n",
    "    return sum\n",
    "sum=add(v1,v2)\n",
    "print(sum)\n"
   ]
  },
  {
   "cell_type": "code",
   "execution_count": 14,
   "metadata": {},
   "outputs": [
    {
     "name": "stdout",
     "output_type": "stream",
     "text": [
      "20\n",
      "30\n",
      "60\n"
     ]
    }
   ],
   "source": [
    "def add(a,c,b=5):\n",
    "    print(b)\n",
    "    print(c)\n",
    "    return (a+b+c)\n",
    "print (add(10,c=30,b=20))\n"
   ]
  },
  {
   "cell_type": "code",
   "execution_count": 21,
   "metadata": {},
   "outputs": [
    {
     "name": "stdout",
     "output_type": "stream",
     "text": [
      "2 3 (4, 5, 6, 7, 8)\n"
     ]
    }
   ],
   "source": [
    "def add(a,b,*c):\n",
    "    print(a,b,c)\n",
    "   # return (a+b+c)\n",
    "\n",
    "add(2,3,4,5,6,7,8)"
   ]
  },
  {
   "cell_type": "markdown",
   "metadata": {},
   "source": [
    "Write a Python function called calculate_average that takes a list of numbers as input and returns their average."
   ]
  },
  {
   "cell_type": "code",
   "execution_count": 6,
   "metadata": {},
   "outputs": [
    {
     "name": "stdout",
     "output_type": "stream",
     "text": [
      "24.0\n"
     ]
    }
   ],
   "source": [
    "def calculate_average(li):\n",
    "    sum=0\n",
    "    for i in li:\n",
    "        sum=sum+i\n",
    "    avg=sum/len(li)\n",
    "    print(avg)\n",
    "li=[]\n",
    "while True:\n",
    "    e=input()\n",
    "    if e==\"ok\":\n",
    "        break\n",
    "    else:\n",
    "\n",
    "        li.append(float(e))\n",
    "calculate_average(li)"
   ]
  },
  {
   "cell_type": "code",
   "execution_count": 2,
   "metadata": {},
   "outputs": [
    {
     "name": "stdout",
     "output_type": "stream",
     "text": [
      "[4, 5, 6, 3, 2]\n",
      "6\n"
     ]
    }
   ],
   "source": [
    "def largest_number(li):\n",
    "    if not li:\n",
    "        print(\"empty\")\n",
    "        return\n",
    "    m = li[0]\n",
    "    for i in li:\n",
    "        if i > m:\n",
    "            m = i\n",
    "    print(m)\n",
    "\n",
    "li = []\n",
    "while True:\n",
    "    e = input()\n",
    "    if e == 'ok':\n",
    "        break\n",
    "    else:\n",
    "        li.append(int(e))\n",
    "print(li)\n",
    "largest_number(li)\n"
   ]
  },
  {
   "cell_type": "markdown",
   "metadata": {},
   "source": []
  }
 ],
 "metadata": {
  "kernelspec": {
   "display_name": "Python 3",
   "language": "python",
   "name": "python3"
  },
  "language_info": {
   "codemirror_mode": {
    "name": "ipython",
    "version": 3
   },
   "file_extension": ".py",
   "mimetype": "text/x-python",
   "name": "python",
   "nbconvert_exporter": "python",
   "pygments_lexer": "ipython3",
   "version": "3.12.4"
  }
 },
 "nbformat": 4,
 "nbformat_minor": 2
}
