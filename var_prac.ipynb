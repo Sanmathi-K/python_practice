{
 "cells": [
  {
   "cell_type": "markdown",
   "metadata": {},
   "source": [
    "Create two variables, x and y, and assign them the values 5 and 7, respectively. "
   ]
  },
  {
   "cell_type": "code",
   "execution_count": 1,
   "metadata": {},
   "outputs": [
    {
     "name": "stdout",
     "output_type": "stream",
     "text": [
      "5 7\n"
     ]
    }
   ],
   "source": [
    "x=5\n",
    "y=7\n",
    "print(x,y)"
   ]
  },
  {
   "cell_type": "markdown",
   "metadata": {},
   "source": [
    "Calculate the sum of x and y and store it in a new variable called z."
   ]
  },
  {
   "cell_type": "code",
   "execution_count": 2,
   "metadata": {},
   "outputs": [
    {
     "name": "stdout",
     "output_type": "stream",
     "text": [
      "12\n"
     ]
    }
   ],
   "source": [
    "z=x+y\n",
    "print(z)"
   ]
  },
  {
   "cell_type": "markdown",
   "metadata": {},
   "source": [
    "Create a variable called my_string and assign it the value \"Hello, world!\". Use indexing to print the first character of the string."
   ]
  },
  {
   "cell_type": "code",
   "execution_count": 3,
   "metadata": {},
   "outputs": [
    {
     "name": "stdout",
     "output_type": "stream",
     "text": [
      "H\n"
     ]
    }
   ],
   "source": [
    "my_string=\"Hello world!\"\n",
    "#for i in my_string:\n",
    "print(my_string[0])"
   ]
  },
  {
   "cell_type": "markdown",
   "metadata": {},
   "source": [
    "Write a Python program to find the area of a rectangle using variables."
   ]
  },
  {
   "cell_type": "code",
   "execution_count": 4,
   "metadata": {},
   "outputs": [
    {
     "name": "stdout",
     "output_type": "stream",
     "text": [
      "Area of rectangle is: 20\n"
     ]
    }
   ],
   "source": [
    "n=int(input(\"enter length\"))\n",
    "b=int(input(\"enter breadth\"))\n",
    "area=n*b\n",
    "print(\"Area of rectangle is:\",area)"
   ]
  },
  {
   "cell_type": "markdown",
   "metadata": {},
   "source": [
    "Create a variable called my_float and assign it the value 3.14159. Print the variable and its data type"
   ]
  },
  {
   "cell_type": "code",
   "execution_count": 5,
   "metadata": {},
   "outputs": [
    {
     "name": "stdout",
     "output_type": "stream",
     "text": [
      "value: 3.14159\n",
      "<class 'float'>\n"
     ]
    }
   ],
   "source": [
    "my_float=3.14159\n",
    "print(\"value:\",my_float)\n",
    "print(type(my_float))\n"
   ]
  },
  {
   "cell_type": "markdown",
   "metadata": {},
   "source": [
    " Write a Python program that calculates the sum of two numbers using variables. "
   ]
  },
  {
   "cell_type": "code",
   "execution_count": 6,
   "metadata": {},
   "outputs": [
    {
     "name": "stdout",
     "output_type": "stream",
     "text": [
      "sum of 23 and 12 is: 35\n"
     ]
    }
   ],
   "source": [
    "n=int(input(\"enter n1\"))\n",
    "b=int(input(\"enter n2\"))\n",
    "sum=n+b\n",
    "print(\"sum of\",n,\"and\",b,\"is:\",sum)\n"
   ]
  },
  {
   "cell_type": "markdown",
   "metadata": {},
   "source": [
    " Write a Python program that calculates the average of three numbers using variables."
   ]
  },
  {
   "cell_type": "code",
   "execution_count": 7,
   "metadata": {},
   "outputs": [
    {
     "name": "stdout",
     "output_type": "stream",
     "text": [
      "Average 7.0\n"
     ]
    }
   ],
   "source": [
    "a=int(input(\"enter n1\"))\n",
    "b=int(input(\"enter n2\"))\n",
    "c=int(input(\"enter n3\"))\n",
    "avg=(a+b+c)/3\n",
    "print(\"Average\",avg)"
   ]
  },
  {
   "cell_type": "markdown",
   "metadata": {},
   "source": [
    "Write a Python program that swaps the values of two variables using variables. Assume the variables are x=5 and y=10."
   ]
  },
  {
   "cell_type": "code",
   "execution_count": 8,
   "metadata": {},
   "outputs": [
    {
     "name": "stdout",
     "output_type": "stream",
     "text": [
      "Before swap: 3 and 6\n",
      "After swap: 6 and 3\n"
     ]
    }
   ],
   "source": [
    "a=int(input(\"enter n1\"))\n",
    "b=int(input(\"enter n2\"))\n",
    "print(\"Before swap:\",a,\"and\",b)\n",
    "t=a\n",
    "a=b\n",
    "b=t\n",
    "print(\"After swap:\",a,\"and\",b)"
   ]
  }
 ],
 "metadata": {
  "kernelspec": {
   "display_name": "Python 3",
   "language": "python",
   "name": "python3"
  },
  "language_info": {
   "codemirror_mode": {
    "name": "ipython",
    "version": 3
   },
   "file_extension": ".py",
   "mimetype": "text/x-python",
   "name": "python",
   "nbconvert_exporter": "python",
   "pygments_lexer": "ipython3",
   "version": "3.12.4"
  }
 },
 "nbformat": 4,
 "nbformat_minor": 2
}
