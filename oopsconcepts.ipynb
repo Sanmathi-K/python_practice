{
 "cells": [
  {
   "cell_type": "markdown",
   "metadata": {},
   "source": [
    "Create a class called Shape with attributes color and filled. Implement subclasses Circle and Rectangle that inherit from Shape. Override the calculate_area method in each subclass to calculate the area of the respective shape. Demonstrate polymorphism by creating instances of both subclasses and calling the calculate_area method."
   ]
  },
  {
   "cell_type": "code",
   "execution_count": 7,
   "metadata": {},
   "outputs": [
    {
     "name": "stdout",
     "output_type": "stream",
     "text": [
      "color of circle: red\n",
      "circle is filled true\n",
      "Radius of a circle\n",
      "Area of circle: 50.24\n",
      "color of the rectangle: blue\n",
      "the rectangle is filled false\n",
      "length of rectangle: 5\n",
      "breadth of rectangle: 6\n",
      "Area of Rectangle: 30\n"
     ]
    }
   ],
   "source": [
    "class Shape:\n",
    "    def __init__(self,color,filled):\n",
    "        self.color=color\n",
    "        self.filled=filled\n",
    "class Circle(Shape):\n",
    "    def calculate_area(self,radius):\n",
    "        self.r=radius\n",
    "        a=3.14*self.r*self.r\n",
    "        print(\"Area of circle:\",a)\n",
    "class Rectangle(Shape):\n",
    "    def calculate_area(self,length,breadth):\n",
    "        self.length=length\n",
    "        self.breadth=breadth\n",
    "        a=length*breadth\n",
    "        print(\"Area of Rectangle:\",a)\n",
    "col=input(\"enter color of circle\")\n",
    "fill=input(\"enter circle filled or not\")\n",
    "r=int(input(\"enter radius\"))\n",
    "print(\"color of circle:\",col)\n",
    "print(\"circle is filled\",fill)\n",
    "c=Circle(col,fill)\n",
    "print(\"Radius of a circle\")\n",
    "c.calculate_area(r)\n",
    "color=input(\"enter color of rectangle\")\n",
    "filled=input(\"enter rectangle filled or not\")\n",
    "l=int(input(\"enter length\"))\n",
    "b=int(input(\"Enter breadth\"))\n",
    "rec=Rectangle(color,filled)\n",
    "print(\"color of the rectangle:\",color)\n",
    "print(\"the rectangle is filled\",filled)\n",
    "print(\"length of rectangle:\",l)\n",
    "print(\"breadth of rectangle:\",b)\n",
    "rec.calculate_area(l,b)"
   ]
  },
  {
   "cell_type": "markdown",
   "metadata": {},
   "source": [
    "Create a class called Animal with a method called make_sound. Implement subclasses Dog and Cat that inherit from Animal. Override the make_sound method in each subclass to produce the appropriate sound for the animal. Demonstrate polymorphism by creating instances of both subclasses and calling the make_sound method."
   ]
  },
  {
   "cell_type": "code",
   "execution_count": 8,
   "metadata": {},
   "outputs": [
    {
     "name": "stdout",
     "output_type": "stream",
     "text": [
      "Bark!\n",
      "Meow!\n"
     ]
    }
   ],
   "source": [
    "class Animal:\n",
    "    def make_sound(self):\n",
    "        print(\"Generic animal sound\")\n",
    "class Dog(Animal):\n",
    "     def make_sound(self):\n",
    "        print(\"Bark!\")\n",
    "\n",
    "class Cat(Animal):\n",
    "    def make_sound(self):\n",
    "        print(\"Meow!\")\n",
    "d=Dog()\n",
    "c=Cat()\n",
    "d.make_sound()\n",
    "c.make_sound()\n"
   ]
  },
  {
   "cell_type": "markdown",
   "metadata": {},
   "source": [
    "Create a class called BankAccount with attributes account_number and balance. Implement subclasses CheckingAccount and SavingsAccount that inherit from BankAccount. Add specific methods for each subclass, such as withdraw and deposit. Demonstrate inheritance by creating instances of both subclasses and calling their specific methods."
   ]
  },
  {
   "cell_type": "code",
   "execution_count": 2,
   "metadata": {},
   "outputs": [
    {
     "name": "stdout",
     "output_type": "stream",
     "text": [
      "Checking Account number: 123\n",
      "checking account initial balance: 200000.0\n",
      "Balance in account after deposit 20000.0 : 220000.0\n",
      "Balance in account after withdrawal 10000.0 : 190000.0\n",
      "savings account number: 456\n",
      "savings account initial balance: 400000.0\n",
      "Balance in account after deposit 20000.0 : 420000.0\n",
      "Balance in account after withdrawal 10000.0 : 390000.0\n"
     ]
    }
   ],
   "source": [
    "class BankAccount:\n",
    "    def __init__(self,account_number,balance):\n",
    "        self.acc=account_number\n",
    "        self.bal=balance\n",
    "    def withdraw(self,w):\n",
    "        self.w=w\n",
    "        balance=self.bal-w\n",
    "        print(\"Balance in account after withdrawal\",self.w,\":\",balance)\n",
    "    def deposit(self,d):\n",
    "        self.d=d\n",
    "        balance=self.bal+d\n",
    "        print(\"Balance in account after deposit\",self.d,\":\",balance)\n",
    "class CheckingAcount(BankAccount):\n",
    "    def __init__(self, account_number, balance):\n",
    "        super().__init__(account_number, balance)\n",
    "    \n",
    "class SavingsAccount(BankAccount):\n",
    "    def __init__(self, account_number, balance=0):\n",
    "        super().__init__(account_number, balance)\n",
    "account_number = input(\"Enter the checking account number: \")\n",
    "balance = float(input(\"Enter the initial balance for the checking account: \"))\n",
    "print(\"Checking Account number:\",account_number)\n",
    "print(\"checking account initial balance:\",balance)\n",
    "checking_account = CheckingAcount(account_number, balance)\n",
    "\n",
    "\n",
    "\n",
    "d=float(input(\"Enter the amount to deposit in the checking account: \"))\n",
    "checking_account.deposit(d)\n",
    "w=float(input(\"Enter the amount to withdraw from the checking account: \"))\n",
    "checking_account.withdraw(w)\n",
    "\n",
    "account_number = input(\"\\nEnter the savings account number: \")\n",
    "balance = float(input(\"Enter the initial balance for the savings account: \"))\n",
    "print(\"savings account number:\",account_number)\n",
    "print(\"savings account initial balance:\",balance)\n",
    "\n",
    "savings_account = SavingsAccount(account_number, balance)\n",
    "d=float(input(\"Enter the amount to deposit in the savings account: \"))\n",
    "savings_account.deposit(d)\n",
    "w=float(input(\"Enter the amount to withdraw from the savings account: \"))\n",
    "savings_account.withdraw(w)\n",
    "\n"
   ]
  },
  {
   "cell_type": "markdown",
   "metadata": {},
   "source": []
  }
 ],
 "metadata": {
  "kernelspec": {
   "display_name": "Python 3",
   "language": "python",
   "name": "python3"
  },
  "language_info": {
   "codemirror_mode": {
    "name": "ipython",
    "version": 3
   },
   "file_extension": ".py",
   "mimetype": "text/x-python",
   "name": "python",
   "nbconvert_exporter": "python",
   "pygments_lexer": "ipython3",
   "version": "3.12.4"
  }
 },
 "nbformat": 4,
 "nbformat_minor": 2
}
