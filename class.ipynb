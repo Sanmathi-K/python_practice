{
 "cells": [
  {
   "cell_type": "code",
   "execution_count": 3,
   "metadata": {},
   "outputs": [
    {
     "name": "stdout",
     "output_type": "stream",
     "text": [
      "color: red\n",
      "name: Ford\n",
      "brand: mustang\n",
      "properies:\n",
      " Ford \n",
      " red \n",
      " mustang\n"
     ]
    }
   ],
   "source": [
    "class Car:\n",
    "    def info(self,color,name,brand):\n",
    "        self.color=color\n",
    "        self.name=name\n",
    "        self.brand=brand\n",
    "        print(\"color:\",self.color)\n",
    "        print(\"name:\",self.name)\n",
    "        print(\"brand:\",self.brand)\n",
    "obj1=Car()\n",
    "obj1.info(\"red\",\"Ford\",\"mustang\")\n",
    "print(\"properies:\\n\",obj1.name,\"\\n\",obj1.color,\"\\n\",obj1.brand)"
   ]
  },
  {
   "cell_type": "code",
   "execution_count": 9,
   "metadata": {},
   "outputs": [
    {
     "name": "stdout",
     "output_type": "stream",
     "text": [
      "CAR MODEL\n",
      "color: red \n",
      "name: Ford \n",
      "brand: mustang\n",
      "CAR MODEL\n",
      "color: blue \n",
      "name: toyoto \n",
      "brand: priyus\n",
      "CAR MODEL\n",
      "color: Green \n",
      "name: volkswagen \n",
      "brand: golf\n"
     ]
    }
   ],
   "source": [
    "class Car:\n",
    "    def info(self,color,name,brand):\n",
    "        self.color=color\n",
    "        self.name=name\n",
    "        self.brand=brand\n",
    "        print(\"CAR MODEL\")\n",
    "        print(\"color:\",self.color,\"\\nname:\",self.name,\"\\nbrand:\",self.brand)\n",
    "obj1=Car()\n",
    "obj1.info(\"red\",\"Ford\",\"mustang\")\n",
    "#print(\"properies:\\n\",obj1.name,\"\\n\",obj1.color,\"\\n\",obj1.brand)\n",
    "obj2=Car()\n",
    "obj2.info(\"blue\",\"toyoto\",\"priyus\")\n",
    "obj3=Car()\n",
    "obj3.info(\"Green\",\"volkswagen\",\"golf\")\n"
   ]
  },
  {
   "cell_type": "code",
   "execution_count": 6,
   "metadata": {},
   "outputs": [
    {
     "name": "stdout",
     "output_type": "stream",
     "text": [
      "length: 5 \n",
      "breadth: 6\n",
      "Area 30\n",
      "perimeter 22\n"
     ]
    }
   ],
   "source": [
    "class Rectangle:\n",
    "    def area(self,length,breath):\n",
    "        self.length=length\n",
    "        self.breath=breath\n",
    "        print(\"Area\",length*breath)\n",
    "    def perimeter(self,length,breath):\n",
    "        self.length=length\n",
    "        self.breath=breath\n",
    "        print(\"perimeter\",2*(length+breath))\n",
    "l=int(input(\"enter length\"))\n",
    "b=int(input(\"enter breadth\"))\n",
    "print(\"length:\",l,\"\\nbreadth:\",b)\n",
    "obj1=Rectangle()\n",
    "obj1.area(l,b)\n",
    "obj2=Rectangle()\n",
    "obj2.perimeter(l,b)\n"
   ]
  },
  {
   "cell_type": "code",
   "execution_count": 10,
   "metadata": {},
   "outputs": [
    {
     "name": "stdout",
     "output_type": "stream",
     "text": [
      "name: priya \n",
      "Age: 21\n",
      "eligible to vote\n"
     ]
    }
   ],
   "source": [
    "class Student:\n",
    "    def __init__(self,name,age):\n",
    "        self.name=name\n",
    "        self.age=age\n",
    "    def vote_eligible(self):\n",
    "        if(self.age>=18):\n",
    "            print(\"eligible to vote\")\n",
    "        else:\n",
    "            print(\"not eligible to vote\")\n",
    "n=input(\"enter name\")\n",
    "a=int(input(\"enter age\"))\n",
    "print(\"name:\",n,\"\\nAge:\",a)\n",
    "vote=Student(n,a)\n",
    "vote.vote_eligible()\n"
   ]
  }
 ],
 "metadata": {
  "kernelspec": {
   "display_name": "Python 3",
   "language": "python",
   "name": "python3"
  },
  "language_info": {
   "codemirror_mode": {
    "name": "ipython",
    "version": 3
   },
   "file_extension": ".py",
   "mimetype": "text/x-python",
   "name": "python",
   "nbconvert_exporter": "python",
   "pygments_lexer": "ipython3",
   "version": "3.12.4"
  }
 },
 "nbformat": 4,
 "nbformat_minor": 2
}
