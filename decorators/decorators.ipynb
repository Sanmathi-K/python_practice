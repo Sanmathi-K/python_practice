{
 "cells": [
  {
   "cell_type": "code",
   "execution_count": 1,
   "metadata": {},
   "outputs": [
    {
     "name": "stdout",
     "output_type": "stream",
     "text": [
      "2.0\n",
      "Error: Division by zero is not allowed.\n",
      "2.0\n",
      "2.0\n"
     ]
    }
   ],
   "source": [
    "def smart_div(func):\n",
    "    # Define a nested function named inner, which takes two arguments 'a' and 'b'\n",
    "    def inner(a, b):\n",
    "        # Check if 'b' is equal to 0, if so, print an error message and return None\n",
    "        if b == 0:\n",
    "            print(\"Error: Division by zero is not allowed.\")\n",
    "            return None\n",
    "        # Check if 'a' is less than 'b', if true, swap 'a' and 'b'\n",
    "        if a < b:\n",
    "            a, b = b, a\n",
    "        # Call the original function func with the modified arguments and return the result\n",
    "        return func(a, b)\n",
    "    # Return the inner function\n",
    "    return inner\n",
    "\n",
    "# Decorate the div function by applying the smart_div decorator\n",
    "@smart_div\n",
    "def div(a, b):\n",
    "    # Define the original function div, which prints the result of dividing 'a' by 'b'\n",
    "    print(a / b)\n",
    "\n",
    "# Test cases\n",
    "# Call the decorated div function with various arguments to test its behavior\n",
    "div(4, 2)  # Output: 2.0 (4 divided by 2)\n",
    "div(2, 0)  # Output: Error: Division by zero is not allowed. (attempt to divide by zero)\n",
    "div(6, 3)  # Output: 2.0 (6 divided by 3)\n",
    "div(3, 6)  # Output: 0.5 (3 divided by 6 after swapping arguments)"
   ]
  },
  {
   "cell_type": "code",
   "execution_count": 2,
   "metadata": {},
   "outputs": [
    {
     "name": "stdout",
     "output_type": "stream",
     "text": [
      "Something is happening before the function is called.\n",
      "Hello!\n",
      "Something is happening after the function is called.\n"
     ]
    }
   ],
   "source": [
    "# Define a decorator function called my_decorator, which takes a function 'func' as its argument\n",
    "def my_decorator(func):\n",
    "    # Define a nested function called wrapper, which will be returned as the modified function\n",
    "    def wrapper():\n",
    "        # Add some behavior before calling the original function\n",
    "        print(\"Something is happening before the function is called.\")\n",
    "        # Call the original function passed as 'func'\n",
    "        func()\n",
    "        # Add some behavior after calling the original function\n",
    "        print(\"Something is happening after the function is called.\")\n",
    "    # Return the wrapper function, which has the added behavior\n",
    "    return wrapper\n",
    "\n",
    "# Decorate the say_hello function by applying the my_decorator\n",
    "@my_decorator\n",
    "def say_hello():\n",
    "    # Define the original function say_hello\n",
    "    print(\"Hello!\")\n",
    "\n",
    "# Call the decorated say_hello function\n",
    "say_hello()"
   ]
  },
  {
   "cell_type": "code",
   "execution_count": 3,
   "metadata": {},
   "outputs": [
    {
     "name": "stdout",
     "output_type": "stream",
     "text": [
      "2.0\n"
     ]
    }
   ],
   "source": [
    "# (Assuming)Define a built-in function named div, which takes two arguments 'a' and 'b' and prints the result of dividing 'a' by 'b'\n",
    "def div(a, b):\n",
    "    print(a / b)\n",
    "\n",
    "# Define a user-defined function named smart_div, which takes a function 'func' as its argument\n",
    "def smart_div(func):\n",
    "    # Define a nested function named inner, which takes two arguments 'a' and 'b'\n",
    "    def inner(a, b):\n",
    "        # Check if 'a' is less than 'b'\n",
    "        if a < b:\n",
    "            # Swap 'a' and 'b' if 'a' is less than 'b'\n",
    "            a, b = b, a\n",
    "        # Call the original function 'func' with the modified arguments\n",
    "        return func(a, b)\n",
    "    # Return the inner function\n",
    "    return inner\n",
    "\n",
    "# Decorate the div function by applying the smart_div decorator\n",
    "div = smart_div(div)\n",
    "\n",
    "# Call the decorated div function with arguments 4 and 2\n",
    "div(4, 2)"
   ]
  }
 ],
 "metadata": {
  "kernelspec": {
   "display_name": "Python 3",
   "language": "python",
   "name": "python3"
  },
  "language_info": {
   "codemirror_mode": {
    "name": "ipython",
    "version": 3
   },
   "file_extension": ".py",
   "mimetype": "text/x-python",
   "name": "python",
   "nbconvert_exporter": "python",
   "pygments_lexer": "ipython3",
   "version": "3.12.4"
  }
 },
 "nbformat": 4,
 "nbformat_minor": 2
}
