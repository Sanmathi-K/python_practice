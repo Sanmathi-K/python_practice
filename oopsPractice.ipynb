{
 "cells": [
  {
   "cell_type": "markdown",
   "metadata": {},
   "source": [
    "Create a class called Rectangle with attributes length and width. Implement methods to calculate the area and perimeter of the rectangle."
   ]
  },
  {
   "cell_type": "code",
   "execution_count": 1,
   "metadata": {},
   "outputs": [
    {
     "name": "stdout",
     "output_type": "stream",
     "text": [
      "length: 5\n",
      "breadth: 6\n",
      "Area: 30\n",
      "Perimeter: 22\n"
     ]
    }
   ],
   "source": [
    "class Rectangle():\n",
    "    def __init__(self,length,breadth):\n",
    "        self.length=length\n",
    "        self.breadth=breadth\n",
    "    def area(self):\n",
    "        print(\"Area:\",self.length*self.breadth)\n",
    "    def perimeter(self):\n",
    "        print(\"Perimeter:\",2*(self.length+self.breadth))\n",
    "l=int(input(\"enter length:\"))\n",
    "b=int(input(\"enter breadth:\"))\n",
    "print(\"length:\",l)\n",
    "print(\"breadth:\",b)\n",
    "rect=Rectangle(l,b)\n",
    "rect.area()\n",
    "rect.perimeter()"
   ]
  },
  {
   "cell_type": "markdown",
   "metadata": {},
   "source": [
    " Create a class called Circle with attribute radius. Implement methods to calculate the area and circumference of the circle."
   ]
  },
  {
   "cell_type": "code",
   "execution_count": 13,
   "metadata": {},
   "outputs": [
    {
     "name": "stdout",
     "output_type": "stream",
     "text": [
      "radius: 4\n",
      "Area: 50.24\n",
      "Perimeter: 25.12\n"
     ]
    }
   ],
   "source": [
    "class Circle():\n",
    "    pi=3.14\n",
    "    def __init__(self,radius):\n",
    "        self.radius=radius\n",
    "    def area(self):\n",
    "        print(\"Area:\",self.pi*self.radius*self.radius)\n",
    "    def perimeter(self):\n",
    "        p=2*self.pi*self.radius\n",
    "        print(\"Perimeter:\",p)\n",
    "r=int(input(\"enter length:\"))\n",
    "print(\"radius:\",r)\n",
    "rect=Circle(r)\n",
    "rect.area()\n",
    "rect.perimeter()"
   ]
  },
  {
   "cell_type": "markdown",
   "metadata": {},
   "source": [
    "Create a class called Employee with attributes name, age, and salary. Implement a method called increase_salary that takes a percentage increase as input and updates the employee's salary accordingly."
   ]
  },
  {
   "cell_type": "code",
   "execution_count": 17,
   "metadata": {},
   "outputs": [
    {
     "name": "stdout",
     "output_type": "stream",
     "text": [
      "name priya\n",
      "name 24\n",
      "name 50000\n",
      "Increase percentage: 20\n",
      "Updated salary: 60000.0\n"
     ]
    }
   ],
   "source": [
    "class Employee():\n",
    "    def __init__(self,name,age,salary):\n",
    "        self.name=name\n",
    "        self.age=age\n",
    "        self.salary=salary\n",
    "    def increase_salary(self,percentage):\n",
    "        new_salary=((percentage*1/100)*self.salary)+self.salary\n",
    "        print(\"Updated salary:\",new_salary)\n",
    "n=input(\"enter name\")\n",
    "a=int(input(\"enter age\"))\n",
    "s=int(input(\"enter salary\"))  \n",
    "p=int(input(\"enter percentage increase\"))\n",
    "print(\"name\",n)\n",
    "print(\"age\",a)\n",
    "print(\"salary\",s)\n",
    "print(\"Increase percentage:\",p)\n",
    "emp=Employee(n,a,s)\n",
    "emp.increase_salary(p)\n",
    "\n"
   ]
  },
  {
   "cell_type": "markdown",
   "metadata": {},
   "source": [
    "Create a class called BankAccount with attributes account_number, holder_name, and balance. Implement methods to deposit and withdraw funds from the account."
   ]
  },
  {
   "cell_type": "code",
   "execution_count": 20,
   "metadata": {},
   "outputs": [
    {
     "name": "stdout",
     "output_type": "stream",
     "text": [
      "Account number: 123789\n",
      "Name: anu\n",
      "Balance: 100000\n",
      "Increase percentage: 20\n",
      "deposite 20000 new balance: 120000\n",
      "Withdrew 10000 New balance 90000\n"
     ]
    }
   ],
   "source": [
    "class BankAccount():\n",
    "    def __init__(self,acc_number,holder_name,balance):\n",
    "        self.number=acc_number\n",
    "        self.name=holder_name\n",
    "        self.balance=balance\n",
    "    def deposit(self,deposite):\n",
    "        self.deposite=deposite\n",
    "        if deposite>0:\n",
    "            print(\"deposite\",self.deposite,\"new balance:\",self.balance+self.deposite)\n",
    "    def withdrawal(self,withdraw):\n",
    "        self.withdraw=withdraw\n",
    "        if 0 < withdraw <= self.balance:\n",
    "            self.balance-=withdraw\n",
    "            print(\"Withdrew\",self.withdraw,\"New balance\",self.balance)\n",
    "        elif withdraw> self.balance:\n",
    "            print(\"Insufficient funds.\")\n",
    "        else:\n",
    "            print(\"Withdrawal amount must be positive.\")\n",
    "an=input(\"enter accountnumber\")\n",
    "hn=(input(\"enter name\"))\n",
    "b=int(input(\"enter balance\"))  \n",
    "d=int(input(\"enter deposit amount\"))\n",
    "w=int(input(\"enter withdrawal amount\"))\n",
    "print(\"Account number:\",an)\n",
    "print(\"Name:\",hn)\n",
    "print(\"Balance:\",b)\n",
    "bank=BankAccount(an,hn,b)\n",
    "bank.deposit(d)\n",
    "bank.withdrawal(w)"
   ]
  },
  {
   "cell_type": "markdown",
   "metadata": {},
   "source": [
    "Create a class called Car with attributes  model, and year. Implement a method called start_engine that prints a message indicating the car has started."
   ]
  },
  {
   "cell_type": "code",
   "execution_count": 21,
   "metadata": {},
   "outputs": [
    {
     "name": "stdout",
     "output_type": "stream",
     "text": [
      "Model: hyundai 120\n",
      "Year: 2020\n",
      "The engine of the year 2020 and model hyundai 120 has started.\n"
     ]
    }
   ],
   "source": [
    "class Car():\n",
    "    def __init__(self,model,year):\n",
    "        self.model=model\n",
    "        self.year=year\n",
    "    def start_engine(self):\n",
    "         print(f\"The engine of the year {self.year} and model {self.model} has started.\")\n",
    "m=input(\"enter model\")\n",
    "y=input(\"enter year\")\n",
    "print(\"Model:\",m)\n",
    "print(\"Year:\",y)\n",
    "engine=Car(m,y)\n",
    "engine.start_engine()"
   ]
  },
  {
   "cell_type": "markdown",
   "metadata": {},
   "source": [
    "Create a class called Student with attributes name, age, and grades (a list of integers). Implement methods to calculate the average grade and determine if the student has passed (average grade >= 60)."
   ]
  },
  {
   "cell_type": "code",
   "execution_count": 29,
   "metadata": {},
   "outputs": [
    {
     "name": "stdout",
     "output_type": "stream",
     "text": [
      "Name: anu\n",
      "Age 17\n",
      "grades [68, 88, 79, 90, 62]\n",
      "you have passed\n"
     ]
    }
   ],
   "source": [
    "class Student():\n",
    "    def __init__(self,name,age,grade):\n",
    "        self.name=name\n",
    "        self.age=age\n",
    "        self.grade=grade\n",
    "    def grades(self):\n",
    "        if not self.grade: \n",
    "            return 0\n",
    "        avg= sum(self.grade)/len(self.grade)       \n",
    "        if avg>=60:\n",
    "            print(\"you have passed\")\n",
    "        else:\n",
    "            print(\"sorry you have failed\")\n",
    "n=input(\"enter name\")\n",
    "a=int(input(\"enter age\"))\n",
    "g = input(\"Enter the student's grades, separated by spaces: \")\n",
    "g = list(map(int, g.split()))\n",
    "print(\"Name:\",n)\n",
    "print(\"Age\",a)\n",
    "print(\"grades\",g)\n",
    "obj=Student(n,a,g)\n",
    "obj.grades()\n",
    "#numbers=map(Student,lst)\n",
    " "
   ]
  },
  {
   "cell_type": "markdown",
   "metadata": {},
   "source": [
    "Create a class called Book with attributes title, author, and year. Implement a method called get_age that returns the age of the book (current year - publication year)."
   ]
  },
  {
   "cell_type": "code",
   "execution_count": 33,
   "metadata": {},
   "outputs": [
    {
     "name": "stdout",
     "output_type": "stream",
     "text": [
      "Title: The Wood\n",
      "Author: Guy N.Smith\n",
      "publication year: 1987\n",
      "Current year: 2024\n",
      "Age of the book is: 37\n"
     ]
    }
   ],
   "source": [
    "class Book:\n",
    "    def __init__(self,title,author,year):\n",
    "        self.title=title\n",
    "        self.author=author\n",
    "        self.year=year\n",
    "    def get_age(self,cy):\n",
    "        age=cy-self.year\n",
    "        print(\"Age of the book is:\",age)\n",
    "t=input(\"enter title\")\n",
    "a=input(\"enter name\")\n",
    "py=int(input(\"enter publication year\"))\n",
    "cy=int(input(\"enter current year\"))\n",
    "print(\"Title:\",t)\n",
    "print(\"Author:\",a)\n",
    "print(\"publication year:\",py)\n",
    "print(\"Current year:\",cy)\n",
    "b=Book(t,a,py)\n",
    "b.get_age(cy)\n",
    "\n"
   ]
  },
  {
   "cell_type": "markdown",
   "metadata": {},
   "source": [
    "Create a class called Shape with an abstract method called calculate_area. Create two subclasses Rectangle and Triangle that inherit from Shape and implement the calculate_area method accordingly."
   ]
  },
  {
   "cell_type": "code",
   "execution_count": null,
   "metadata": {},
   "outputs": [],
   "source": []
  },
  {
   "cell_type": "markdown",
   "metadata": {},
   "source": [
    " Create a class called Person with attributes name and address. Create a subclass Student that inherits from Person and adds an attribute student_id. Implement a method in the Student class to display student information."
   ]
  },
  {
   "cell_type": "code",
   "execution_count": 7,
   "metadata": {},
   "outputs": [
    {
     "name": "stdout",
     "output_type": "stream",
     "text": [
      "name: riya \n",
      "Address: coimbatore \n",
      "Student id: 22\n"
     ]
    }
   ],
   "source": [
    "class Person:\n",
    "    def __init__(self,name,ad):\n",
    "        self.name=name\n",
    "        self.ad=ad\n",
    "        \n",
    "class Student(Person):\n",
    "    def info(self,student_id):\n",
    "        self.student_id=student_id\n",
    "        print(\"name:\",self.name,\"\\nAddress:\",self.ad,\"\\nStudent id:\",self.student_id)\n",
    "n=input(\"enter name\")\n",
    "a=input(\"enter address\")\n",
    "s=input(\"enter id\")\n",
    "#pe=Person(n,a)\n",
    "st=Student(n,a)\n",
    "st.info(s)\n",
    "\n",
    "\n"
   ]
  },
  {
   "cell_type": "markdown",
   "metadata": {},
   "source": [
    " Create a class called Bank with a dictionary attribute accounts, where the keys are account numbers and the values are instances of a BankAccount class. Implement methods to add accounts, retrieve account information, and perform transactions like deposit and withdrawal."
   ]
  },
  {
   "cell_type": "code",
   "execution_count": null,
   "metadata": {},
   "outputs": [],
   "source": []
  }
 ],
 "metadata": {
  "kernelspec": {
   "display_name": "Python 3",
   "language": "python",
   "name": "python3"
  },
  "language_info": {
   "codemirror_mode": {
    "name": "ipython",
    "version": 3
   },
   "file_extension": ".py",
   "mimetype": "text/x-python",
   "name": "python",
   "nbconvert_exporter": "python",
   "pygments_lexer": "ipython3",
   "version": "3.12.4"
  }
 },
 "nbformat": 4,
 "nbformat_minor": 2
}
